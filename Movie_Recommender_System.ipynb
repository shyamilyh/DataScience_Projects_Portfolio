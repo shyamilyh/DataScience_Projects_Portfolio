{
  "nbformat": 4,
  "nbformat_minor": 0,
  "metadata": {
    "colab": {
      "provenance": [],
      "authorship_tag": "ABX9TyMqJdyAEb0EPCrDNyCU6uqo",
      "include_colab_link": true
    },
    "kernelspec": {
      "name": "python3",
      "display_name": "Python 3"
    },
    "language_info": {
      "name": "python"
    }
  },
  "cells": [
    {
      "cell_type": "markdown",
      "metadata": {
        "id": "view-in-github",
        "colab_type": "text"
      },
      "source": [
        "<a href=\"https://colab.research.google.com/github/shyamilyh/Data-Science-Portfolio-Projects/blob/main/Movie_Recommender_System.ipynb\" target=\"_parent\"><img src=\"https://colab.research.google.com/assets/colab-badge.svg\" alt=\"Open In Colab\"/></a>"
      ]
    },
    {
      "cell_type": "markdown",
      "source": [
        "#**Movie Recommender Systems**"
      ],
      "metadata": {
        "id": "8_IeEQOAzpct"
      }
    },
    {
      "cell_type": "markdown",
      "source": [
        "##**Project Summary**"
      ],
      "metadata": {
        "id": "1mVaddkFz8Qd"
      }
    },
    {
      "cell_type": "markdown",
      "source": [
        "This project aims to build a simple movie recommendation system."
      ],
      "metadata": {
        "id": "le3uAh2sz_E-"
      }
    },
    {
      "cell_type": "markdown",
      "source": [
        "Recommender systems are powerful tools used to predict and suggest items or content that a user might be interested in. They play a crucial role in various domains, such as e-commerce, entertainment, social media, and personalized advertising. By analyzing user behavior, preferences, and historical data, recommender systems aim to provide personalized recommendations that enhance user experience, increase engagement, and drive conversions.\n",
        "\n",
        "Different Types of Recommender Systems:\n",
        "\n",
        "The most common types of recommender systems:\n",
        "\n",
        "* Simple Recommender:\n",
        "The Simple Recommender offers generalized recommnendations to every user based on movie popularity and (sometimes) genre. The basic idea behind this recommender is that movies that are more popular and more critically acclaimed will have a higher probability of being liked by the average audience. This model does not give personalized recommendations based on the user.\n",
        "\n",
        "* Content-Based Recommender: This approach recommends items similar to those a user has liked in the past. It focuses on the features or attributes of the items, such as genre, actors, or keywords in the case of movies. For example, if a user has enjoyed action movies, a content-based system might recommend other action movies with similar themes or actors.\n",
        "\n",
        "* Collaborative Recommender: This method leverages the collective preferences of a group of users to make recommendations. It assumes that users who have agreed in the past are likely to agree again in the future. Collaborative filtering can be further categorized into two subtypes:\n",
        "\n",
        "**User-Based:** Recommends items liked by users\n",
        "with similar tastes to the target user.\n",
        "\n",
        "**Item-Based:** Recommends items similar to those the target user has liked in the past, based on the preferences of other users who have also liked those items.\n",
        "\n",
        "* Hybrid Recommender Systems: These systems combine elements of both content-based and collaborative filtering to provide more comprehensive and accurate recommendations. They leverage the strengths of both approaches to overcome limitations and improve overall performance. For example, a hybrid system might use content-based filtering to generate an initial set of recommendations and then refine them using collaborative filtering to incorporate user preferences and social influence.\n",
        "\n",
        "* Knowledge-Based Recommender Systems: These systems rely on explicit knowledge about user preferences and item characteristics to make recommendations. They often involve rules or constraints defined by experts to guide the recommendation process. Knowledge-based systems are particularly useful when user data is limited or when specific requirements need to be met, such as recommending products within a certain price range or with specific features.\n",
        "\n",
        "* Demographic-Based Recommender Systems: These systems categorize users based on demographic attributes such as age, gender, location, or occupation. They then recommend items that are popular or relevant to users within the same demographic group. Demographic-based recommendations can be a simple and effective way to personalize recommendations, especially when user data is sparse."
      ],
      "metadata": {
        "id": "zIM7UXflxgzN"
      }
    },
    {
      "cell_type": "markdown",
      "source": [
        "##**Problem Statement**"
      ],
      "metadata": {
        "id": "wfSayMJd0KIU"
      }
    },
    {
      "cell_type": "markdown",
      "source": [
        "Develop a movie recommender system that suggests movies to users based on their past behavior and preferences.\n"
      ],
      "metadata": {
        "id": "9N2n0Amn0MzV"
      }
    },
    {
      "cell_type": "markdown",
      "source": [
        "**Define Your Business Objective?**"
      ],
      "metadata": {
        "id": "wA2dDEuW0Pr8"
      }
    },
    {
      "cell_type": "markdown",
      "source": [
        "To enhance user engagement and satisfaction by providing personalized movie recommendations that cater to individual tastes and viewing habits, ultimately leading to increased movie consumption and customer retention.\n",
        "\n",
        "By improving user engagement and satisfaction through personalized recommendations, the business aims to achieve the following:\n",
        "\n",
        "1. Increased Movie Consumption: When users are presented with relevant and appealing movie suggestions, they are more likely to watch more movies on the platform.\n",
        "\n",
        "2. Improved Customer Retention: Satisfied users who find value in the recommendations are more likely to continue using the service, reducing churn and increasing customer lifetime value.\n",
        "\n",
        "3. Enhanced User Experience: Personalized recommendations create a more enjoyable and tailored experience for users, making them feel understood and valued."
      ],
      "metadata": {
        "id": "jqHcYHDT0TB9"
      }
    },
    {
      "cell_type": "markdown",
      "source": [
        "We are going to build Simple recommender system"
      ],
      "metadata": {
        "id": "bcL64u6l0fxW"
      }
    },
    {
      "cell_type": "markdown",
      "source": [
        "#**1. Know Your Data**"
      ],
      "metadata": {
        "id": "um3tZX619cLb"
      }
    },
    {
      "cell_type": "markdown",
      "source": [
        "##**Import Libraries**"
      ],
      "metadata": {
        "id": "mrksfeVg9icy"
      }
    },
    {
      "cell_type": "code",
      "source": [
        "%matplotlib inline\n",
        "import pandas as pd\n",
        "import numpy as np\n",
        "import matplotlib.pyplot as plt\n",
        "import seaborn as sns\n",
        "from scipy import stats\n",
        "from ast import literal_eval\n",
        "from sklearn.feature_extraction.text import TfidfVectorizer, CountVectorizer\n",
        "from sklearn.metrics.pairwise import linear_kernel, cosine_similarity\n",
        "from nltk.stem.snowball import SnowballStemmer\n",
        "from nltk.stem.wordnet import WordNetLemmatizer\n",
        "from nltk.corpus import wordnet\n",
        "import warnings; warnings.simplefilter('ignore')"
      ],
      "metadata": {
        "id": "Q-4VcMvK0J4G"
      },
      "execution_count": null,
      "outputs": []
    },
    {
      "cell_type": "markdown",
      "source": [
        "###**Dataset Loading**"
      ],
      "metadata": {
        "id": "iYdVZrfq9qwp"
      }
    },
    {
      "cell_type": "code",
      "source": [
        "# Load Dataset\n",
        "\n",
        "md = pd.read_csv('/content/movies_metadata (1).csv')"
      ],
      "metadata": {
        "id": "M-oLqay6zycF"
      },
      "execution_count": null,
      "outputs": []
    },
    {
      "cell_type": "markdown",
      "source": [
        "###**Dataset First View**"
      ],
      "metadata": {
        "id": "sYYhIwob9ug5"
      }
    },
    {
      "cell_type": "code",
      "execution_count": null,
      "metadata": {
        "id": "Q_WSY0hrzjLf",
        "colab": {
          "base_uri": "https://localhost:8080/",
          "height": 706
        },
        "outputId": "9eec1365-eccf-46b2-f8f3-890c34dcd724"
      },
      "outputs": [
        {
          "output_type": "execute_result",
          "data": {
            "text/plain": [
              "   adult                              belongs_to_collection    budget  \\\n",
              "0  False  {'id': 10194, 'name': 'Toy Story Collection', ...  30000000   \n",
              "1  False                                                NaN  65000000   \n",
              "2  False  {'id': 119050, 'name': 'Grumpy Old Men Collect...         0   \n",
              "3  False                                                NaN  16000000   \n",
              "4  False  {'id': 96871, 'name': 'Father of the Bride Col...         0   \n",
              "\n",
              "                                              genres  \\\n",
              "0  [{'id': 16, 'name': 'Animation'}, {'id': 35, '...   \n",
              "1  [{'id': 12, 'name': 'Adventure'}, {'id': 14, '...   \n",
              "2  [{'id': 10749, 'name': 'Romance'}, {'id': 35, ...   \n",
              "3  [{'id': 35, 'name': 'Comedy'}, {'id': 18, 'nam...   \n",
              "4                     [{'id': 35, 'name': 'Comedy'}]   \n",
              "\n",
              "                               homepage     id    imdb_id original_language  \\\n",
              "0  http://toystory.disney.com/toy-story    862  tt0114709                en   \n",
              "1                                   NaN   8844  tt0113497                en   \n",
              "2                                   NaN  15602  tt0113228                en   \n",
              "3                                   NaN  31357  tt0114885                en   \n",
              "4                                   NaN  11862  tt0113041                en   \n",
              "\n",
              "                original_title  \\\n",
              "0                    Toy Story   \n",
              "1                      Jumanji   \n",
              "2             Grumpier Old Men   \n",
              "3            Waiting to Exhale   \n",
              "4  Father of the Bride Part II   \n",
              "\n",
              "                                            overview  ... release_date  \\\n",
              "0  Led by Woody, Andy's toys live happily in his ...  ...   1995-10-30   \n",
              "1  When siblings Judy and Peter discover an encha...  ...   1995-12-15   \n",
              "2  A family wedding reignites the ancient feud be...  ...   1995-12-22   \n",
              "3  Cheated on, mistreated and stepped on, the wom...  ...   1995-12-22   \n",
              "4  Just when George Banks has recovered from his ...  ...   1995-02-10   \n",
              "\n",
              "       revenue runtime                                   spoken_languages  \\\n",
              "0  373554033.0    81.0           [{'iso_639_1': 'en', 'name': 'English'}]   \n",
              "1  262797249.0   104.0  [{'iso_639_1': 'en', 'name': 'English'}, {'iso...   \n",
              "2          0.0   101.0           [{'iso_639_1': 'en', 'name': 'English'}]   \n",
              "3   81452156.0   127.0           [{'iso_639_1': 'en', 'name': 'English'}]   \n",
              "4   76578911.0   106.0           [{'iso_639_1': 'en', 'name': 'English'}]   \n",
              "\n",
              "     status                                            tagline  \\\n",
              "0  Released                                                NaN   \n",
              "1  Released          Roll the dice and unleash the excitement!   \n",
              "2  Released  Still Yelling. Still Fighting. Still Ready for...   \n",
              "3  Released  Friends are the people who let you be yourself...   \n",
              "4  Released  Just When His World Is Back To Normal... He's ...   \n",
              "\n",
              "                         title  video vote_average vote_count  \n",
              "0                    Toy Story  False          7.7     5415.0  \n",
              "1                      Jumanji  False          6.9     2413.0  \n",
              "2             Grumpier Old Men  False          6.5       92.0  \n",
              "3            Waiting to Exhale  False          6.1       34.0  \n",
              "4  Father of the Bride Part II  False          5.7      173.0  \n",
              "\n",
              "[5 rows x 24 columns]"
            ],
            "text/html": [
              "\n",
              "  <div id=\"df-ef0b67b3-c068-46dc-8e40-7721aaf029fb\" class=\"colab-df-container\">\n",
              "    <div>\n",
              "<style scoped>\n",
              "    .dataframe tbody tr th:only-of-type {\n",
              "        vertical-align: middle;\n",
              "    }\n",
              "\n",
              "    .dataframe tbody tr th {\n",
              "        vertical-align: top;\n",
              "    }\n",
              "\n",
              "    .dataframe thead th {\n",
              "        text-align: right;\n",
              "    }\n",
              "</style>\n",
              "<table border=\"1\" class=\"dataframe\">\n",
              "  <thead>\n",
              "    <tr style=\"text-align: right;\">\n",
              "      <th></th>\n",
              "      <th>adult</th>\n",
              "      <th>belongs_to_collection</th>\n",
              "      <th>budget</th>\n",
              "      <th>genres</th>\n",
              "      <th>homepage</th>\n",
              "      <th>id</th>\n",
              "      <th>imdb_id</th>\n",
              "      <th>original_language</th>\n",
              "      <th>original_title</th>\n",
              "      <th>overview</th>\n",
              "      <th>...</th>\n",
              "      <th>release_date</th>\n",
              "      <th>revenue</th>\n",
              "      <th>runtime</th>\n",
              "      <th>spoken_languages</th>\n",
              "      <th>status</th>\n",
              "      <th>tagline</th>\n",
              "      <th>title</th>\n",
              "      <th>video</th>\n",
              "      <th>vote_average</th>\n",
              "      <th>vote_count</th>\n",
              "    </tr>\n",
              "  </thead>\n",
              "  <tbody>\n",
              "    <tr>\n",
              "      <th>0</th>\n",
              "      <td>False</td>\n",
              "      <td>{'id': 10194, 'name': 'Toy Story Collection', ...</td>\n",
              "      <td>30000000</td>\n",
              "      <td>[{'id': 16, 'name': 'Animation'}, {'id': 35, '...</td>\n",
              "      <td>http://toystory.disney.com/toy-story</td>\n",
              "      <td>862</td>\n",
              "      <td>tt0114709</td>\n",
              "      <td>en</td>\n",
              "      <td>Toy Story</td>\n",
              "      <td>Led by Woody, Andy's toys live happily in his ...</td>\n",
              "      <td>...</td>\n",
              "      <td>1995-10-30</td>\n",
              "      <td>373554033.0</td>\n",
              "      <td>81.0</td>\n",
              "      <td>[{'iso_639_1': 'en', 'name': 'English'}]</td>\n",
              "      <td>Released</td>\n",
              "      <td>NaN</td>\n",
              "      <td>Toy Story</td>\n",
              "      <td>False</td>\n",
              "      <td>7.7</td>\n",
              "      <td>5415.0</td>\n",
              "    </tr>\n",
              "    <tr>\n",
              "      <th>1</th>\n",
              "      <td>False</td>\n",
              "      <td>NaN</td>\n",
              "      <td>65000000</td>\n",
              "      <td>[{'id': 12, 'name': 'Adventure'}, {'id': 14, '...</td>\n",
              "      <td>NaN</td>\n",
              "      <td>8844</td>\n",
              "      <td>tt0113497</td>\n",
              "      <td>en</td>\n",
              "      <td>Jumanji</td>\n",
              "      <td>When siblings Judy and Peter discover an encha...</td>\n",
              "      <td>...</td>\n",
              "      <td>1995-12-15</td>\n",
              "      <td>262797249.0</td>\n",
              "      <td>104.0</td>\n",
              "      <td>[{'iso_639_1': 'en', 'name': 'English'}, {'iso...</td>\n",
              "      <td>Released</td>\n",
              "      <td>Roll the dice and unleash the excitement!</td>\n",
              "      <td>Jumanji</td>\n",
              "      <td>False</td>\n",
              "      <td>6.9</td>\n",
              "      <td>2413.0</td>\n",
              "    </tr>\n",
              "    <tr>\n",
              "      <th>2</th>\n",
              "      <td>False</td>\n",
              "      <td>{'id': 119050, 'name': 'Grumpy Old Men Collect...</td>\n",
              "      <td>0</td>\n",
              "      <td>[{'id': 10749, 'name': 'Romance'}, {'id': 35, ...</td>\n",
              "      <td>NaN</td>\n",
              "      <td>15602</td>\n",
              "      <td>tt0113228</td>\n",
              "      <td>en</td>\n",
              "      <td>Grumpier Old Men</td>\n",
              "      <td>A family wedding reignites the ancient feud be...</td>\n",
              "      <td>...</td>\n",
              "      <td>1995-12-22</td>\n",
              "      <td>0.0</td>\n",
              "      <td>101.0</td>\n",
              "      <td>[{'iso_639_1': 'en', 'name': 'English'}]</td>\n",
              "      <td>Released</td>\n",
              "      <td>Still Yelling. Still Fighting. Still Ready for...</td>\n",
              "      <td>Grumpier Old Men</td>\n",
              "      <td>False</td>\n",
              "      <td>6.5</td>\n",
              "      <td>92.0</td>\n",
              "    </tr>\n",
              "    <tr>\n",
              "      <th>3</th>\n",
              "      <td>False</td>\n",
              "      <td>NaN</td>\n",
              "      <td>16000000</td>\n",
              "      <td>[{'id': 35, 'name': 'Comedy'}, {'id': 18, 'nam...</td>\n",
              "      <td>NaN</td>\n",
              "      <td>31357</td>\n",
              "      <td>tt0114885</td>\n",
              "      <td>en</td>\n",
              "      <td>Waiting to Exhale</td>\n",
              "      <td>Cheated on, mistreated and stepped on, the wom...</td>\n",
              "      <td>...</td>\n",
              "      <td>1995-12-22</td>\n",
              "      <td>81452156.0</td>\n",
              "      <td>127.0</td>\n",
              "      <td>[{'iso_639_1': 'en', 'name': 'English'}]</td>\n",
              "      <td>Released</td>\n",
              "      <td>Friends are the people who let you be yourself...</td>\n",
              "      <td>Waiting to Exhale</td>\n",
              "      <td>False</td>\n",
              "      <td>6.1</td>\n",
              "      <td>34.0</td>\n",
              "    </tr>\n",
              "    <tr>\n",
              "      <th>4</th>\n",
              "      <td>False</td>\n",
              "      <td>{'id': 96871, 'name': 'Father of the Bride Col...</td>\n",
              "      <td>0</td>\n",
              "      <td>[{'id': 35, 'name': 'Comedy'}]</td>\n",
              "      <td>NaN</td>\n",
              "      <td>11862</td>\n",
              "      <td>tt0113041</td>\n",
              "      <td>en</td>\n",
              "      <td>Father of the Bride Part II</td>\n",
              "      <td>Just when George Banks has recovered from his ...</td>\n",
              "      <td>...</td>\n",
              "      <td>1995-02-10</td>\n",
              "      <td>76578911.0</td>\n",
              "      <td>106.0</td>\n",
              "      <td>[{'iso_639_1': 'en', 'name': 'English'}]</td>\n",
              "      <td>Released</td>\n",
              "      <td>Just When His World Is Back To Normal... He's ...</td>\n",
              "      <td>Father of the Bride Part II</td>\n",
              "      <td>False</td>\n",
              "      <td>5.7</td>\n",
              "      <td>173.0</td>\n",
              "    </tr>\n",
              "  </tbody>\n",
              "</table>\n",
              "<p>5 rows × 24 columns</p>\n",
              "</div>\n",
              "    <div class=\"colab-df-buttons\">\n",
              "\n",
              "  <div class=\"colab-df-container\">\n",
              "    <button class=\"colab-df-convert\" onclick=\"convertToInteractive('df-ef0b67b3-c068-46dc-8e40-7721aaf029fb')\"\n",
              "            title=\"Convert this dataframe to an interactive table.\"\n",
              "            style=\"display:none;\">\n",
              "\n",
              "  <svg xmlns=\"http://www.w3.org/2000/svg\" height=\"24px\" viewBox=\"0 -960 960 960\">\n",
              "    <path d=\"M120-120v-720h720v720H120Zm60-500h600v-160H180v160Zm220 220h160v-160H400v160Zm0 220h160v-160H400v160ZM180-400h160v-160H180v160Zm440 0h160v-160H620v160ZM180-180h160v-160H180v160Zm440 0h160v-160H620v160Z\"/>\n",
              "  </svg>\n",
              "    </button>\n",
              "\n",
              "  <style>\n",
              "    .colab-df-container {\n",
              "      display:flex;\n",
              "      gap: 12px;\n",
              "    }\n",
              "\n",
              "    .colab-df-convert {\n",
              "      background-color: #E8F0FE;\n",
              "      border: none;\n",
              "      border-radius: 50%;\n",
              "      cursor: pointer;\n",
              "      display: none;\n",
              "      fill: #1967D2;\n",
              "      height: 32px;\n",
              "      padding: 0 0 0 0;\n",
              "      width: 32px;\n",
              "    }\n",
              "\n",
              "    .colab-df-convert:hover {\n",
              "      background-color: #E2EBFA;\n",
              "      box-shadow: 0px 1px 2px rgba(60, 64, 67, 0.3), 0px 1px 3px 1px rgba(60, 64, 67, 0.15);\n",
              "      fill: #174EA6;\n",
              "    }\n",
              "\n",
              "    .colab-df-buttons div {\n",
              "      margin-bottom: 4px;\n",
              "    }\n",
              "\n",
              "    [theme=dark] .colab-df-convert {\n",
              "      background-color: #3B4455;\n",
              "      fill: #D2E3FC;\n",
              "    }\n",
              "\n",
              "    [theme=dark] .colab-df-convert:hover {\n",
              "      background-color: #434B5C;\n",
              "      box-shadow: 0px 1px 3px 1px rgba(0, 0, 0, 0.15);\n",
              "      filter: drop-shadow(0px 1px 2px rgba(0, 0, 0, 0.3));\n",
              "      fill: #FFFFFF;\n",
              "    }\n",
              "  </style>\n",
              "\n",
              "    <script>\n",
              "      const buttonEl =\n",
              "        document.querySelector('#df-ef0b67b3-c068-46dc-8e40-7721aaf029fb button.colab-df-convert');\n",
              "      buttonEl.style.display =\n",
              "        google.colab.kernel.accessAllowed ? 'block' : 'none';\n",
              "\n",
              "      async function convertToInteractive(key) {\n",
              "        const element = document.querySelector('#df-ef0b67b3-c068-46dc-8e40-7721aaf029fb');\n",
              "        const dataTable =\n",
              "          await google.colab.kernel.invokeFunction('convertToInteractive',\n",
              "                                                    [key], {});\n",
              "        if (!dataTable) return;\n",
              "\n",
              "        const docLinkHtml = 'Like what you see? Visit the ' +\n",
              "          '<a target=\"_blank\" href=https://colab.research.google.com/notebooks/data_table.ipynb>data table notebook</a>'\n",
              "          + ' to learn more about interactive tables.';\n",
              "        element.innerHTML = '';\n",
              "        dataTable['output_type'] = 'display_data';\n",
              "        await google.colab.output.renderOutput(dataTable, element);\n",
              "        const docLink = document.createElement('div');\n",
              "        docLink.innerHTML = docLinkHtml;\n",
              "        element.appendChild(docLink);\n",
              "      }\n",
              "    </script>\n",
              "  </div>\n",
              "\n",
              "\n",
              "<div id=\"df-83b9e3dc-d791-44d0-b846-88800711eafe\">\n",
              "  <button class=\"colab-df-quickchart\" onclick=\"quickchart('df-83b9e3dc-d791-44d0-b846-88800711eafe')\"\n",
              "            title=\"Suggest charts\"\n",
              "            style=\"display:none;\">\n",
              "\n",
              "<svg xmlns=\"http://www.w3.org/2000/svg\" height=\"24px\"viewBox=\"0 0 24 24\"\n",
              "     width=\"24px\">\n",
              "    <g>\n",
              "        <path d=\"M19 3H5c-1.1 0-2 .9-2 2v14c0 1.1.9 2 2 2h14c1.1 0 2-.9 2-2V5c0-1.1-.9-2-2-2zM9 17H7v-7h2v7zm4 0h-2V7h2v10zm4 0h-2v-4h2v4z\"/>\n",
              "    </g>\n",
              "</svg>\n",
              "  </button>\n",
              "\n",
              "<style>\n",
              "  .colab-df-quickchart {\n",
              "      --bg-color: #E8F0FE;\n",
              "      --fill-color: #1967D2;\n",
              "      --hover-bg-color: #E2EBFA;\n",
              "      --hover-fill-color: #174EA6;\n",
              "      --disabled-fill-color: #AAA;\n",
              "      --disabled-bg-color: #DDD;\n",
              "  }\n",
              "\n",
              "  [theme=dark] .colab-df-quickchart {\n",
              "      --bg-color: #3B4455;\n",
              "      --fill-color: #D2E3FC;\n",
              "      --hover-bg-color: #434B5C;\n",
              "      --hover-fill-color: #FFFFFF;\n",
              "      --disabled-bg-color: #3B4455;\n",
              "      --disabled-fill-color: #666;\n",
              "  }\n",
              "\n",
              "  .colab-df-quickchart {\n",
              "    background-color: var(--bg-color);\n",
              "    border: none;\n",
              "    border-radius: 50%;\n",
              "    cursor: pointer;\n",
              "    display: none;\n",
              "    fill: var(--fill-color);\n",
              "    height: 32px;\n",
              "    padding: 0;\n",
              "    width: 32px;\n",
              "  }\n",
              "\n",
              "  .colab-df-quickchart:hover {\n",
              "    background-color: var(--hover-bg-color);\n",
              "    box-shadow: 0 1px 2px rgba(60, 64, 67, 0.3), 0 1px 3px 1px rgba(60, 64, 67, 0.15);\n",
              "    fill: var(--button-hover-fill-color);\n",
              "  }\n",
              "\n",
              "  .colab-df-quickchart-complete:disabled,\n",
              "  .colab-df-quickchart-complete:disabled:hover {\n",
              "    background-color: var(--disabled-bg-color);\n",
              "    fill: var(--disabled-fill-color);\n",
              "    box-shadow: none;\n",
              "  }\n",
              "\n",
              "  .colab-df-spinner {\n",
              "    border: 2px solid var(--fill-color);\n",
              "    border-color: transparent;\n",
              "    border-bottom-color: var(--fill-color);\n",
              "    animation:\n",
              "      spin 1s steps(1) infinite;\n",
              "  }\n",
              "\n",
              "  @keyframes spin {\n",
              "    0% {\n",
              "      border-color: transparent;\n",
              "      border-bottom-color: var(--fill-color);\n",
              "      border-left-color: var(--fill-color);\n",
              "    }\n",
              "    20% {\n",
              "      border-color: transparent;\n",
              "      border-left-color: var(--fill-color);\n",
              "      border-top-color: var(--fill-color);\n",
              "    }\n",
              "    30% {\n",
              "      border-color: transparent;\n",
              "      border-left-color: var(--fill-color);\n",
              "      border-top-color: var(--fill-color);\n",
              "      border-right-color: var(--fill-color);\n",
              "    }\n",
              "    40% {\n",
              "      border-color: transparent;\n",
              "      border-right-color: var(--fill-color);\n",
              "      border-top-color: var(--fill-color);\n",
              "    }\n",
              "    60% {\n",
              "      border-color: transparent;\n",
              "      border-right-color: var(--fill-color);\n",
              "    }\n",
              "    80% {\n",
              "      border-color: transparent;\n",
              "      border-right-color: var(--fill-color);\n",
              "      border-bottom-color: var(--fill-color);\n",
              "    }\n",
              "    90% {\n",
              "      border-color: transparent;\n",
              "      border-bottom-color: var(--fill-color);\n",
              "    }\n",
              "  }\n",
              "</style>\n",
              "\n",
              "  <script>\n",
              "    async function quickchart(key) {\n",
              "      const quickchartButtonEl =\n",
              "        document.querySelector('#' + key + ' button');\n",
              "      quickchartButtonEl.disabled = true;  // To prevent multiple clicks.\n",
              "      quickchartButtonEl.classList.add('colab-df-spinner');\n",
              "      try {\n",
              "        const charts = await google.colab.kernel.invokeFunction(\n",
              "            'suggestCharts', [key], {});\n",
              "      } catch (error) {\n",
              "        console.error('Error during call to suggestCharts:', error);\n",
              "      }\n",
              "      quickchartButtonEl.classList.remove('colab-df-spinner');\n",
              "      quickchartButtonEl.classList.add('colab-df-quickchart-complete');\n",
              "    }\n",
              "    (() => {\n",
              "      let quickchartButtonEl =\n",
              "        document.querySelector('#df-83b9e3dc-d791-44d0-b846-88800711eafe button');\n",
              "      quickchartButtonEl.style.display =\n",
              "        google.colab.kernel.accessAllowed ? 'block' : 'none';\n",
              "    })();\n",
              "  </script>\n",
              "</div>\n",
              "\n",
              "    </div>\n",
              "  </div>\n"
            ],
            "application/vnd.google.colaboratory.intrinsic+json": {
              "type": "dataframe",
              "variable_name": "md"
            }
          },
          "metadata": {},
          "execution_count": 4
        }
      ],
      "source": [
        "# Dataset First Look\n",
        "md.head()"
      ]
    },
    {
      "cell_type": "markdown",
      "source": [
        "#**2. Understanding Your Variables**"
      ],
      "metadata": {
        "id": "UkxGn34J-Z3S"
      }
    },
    {
      "cell_type": "code",
      "source": [
        "# Dataset Columns\n",
        "md.columns.tolist()"
      ],
      "metadata": {
        "id": "iUu_RU-Z-w86",
        "colab": {
          "base_uri": "https://localhost:8080/"
        },
        "outputId": "ad4bf8a5-1750-4c05-98b5-8fc1e7e2e0ee"
      },
      "execution_count": null,
      "outputs": [
        {
          "output_type": "execute_result",
          "data": {
            "text/plain": [
              "['adult',\n",
              " 'belongs_to_collection',\n",
              " 'budget',\n",
              " 'genres',\n",
              " 'homepage',\n",
              " 'id',\n",
              " 'imdb_id',\n",
              " 'original_language',\n",
              " 'original_title',\n",
              " 'overview',\n",
              " 'popularity',\n",
              " 'poster_path',\n",
              " 'production_companies',\n",
              " 'production_countries',\n",
              " 'release_date',\n",
              " 'revenue',\n",
              " 'runtime',\n",
              " 'spoken_languages',\n",
              " 'status',\n",
              " 'tagline',\n",
              " 'title',\n",
              " 'video',\n",
              " 'vote_average',\n",
              " 'vote_count']"
            ]
          },
          "metadata": {},
          "execution_count": 5
        }
      ]
    },
    {
      "cell_type": "markdown",
      "source": [
        "###**Variables Description**"
      ],
      "metadata": {
        "id": "E-3dy2Fd-8m7"
      }
    },
    {
      "cell_type": "markdown",
      "source": [
        "**adult:** Indicates whether the movie is classified as adult content.\n",
        "\n",
        "**belongs_to_collection:** Identifies if the movie is part of a film series or franchise.\n",
        "\n",
        "**budget:** The estimated production cost of the movie.\n",
        "\n",
        "**genres:** The categories or classifications of the movie (e.g., Action, Comedy, Drama).\n",
        "\n",
        "**homepage:** The official website URL for the movie.\n",
        "\n",
        "**id:** A unique identifier for each movie within the dataset.\n",
        "\n",
        "**imdb_id:** The unique identifier for the movie on the Internet Movie Database (IMDb).\n",
        "\n",
        "**original_language:** The original language in which the movie was produced.\n",
        "\n",
        "**original_title:** The original title of the movie in its original language.\n",
        "\n",
        "**overview:** A brief summary or plot description of the movie.\n",
        "\n",
        "**popularity:** A metric representing the popularity of the movie, often based on views, ratings, or other engagement metrics.\n",
        "\n",
        "**poster_path:** The file path or URL to the movie's poster image.\n",
        "\n",
        "**production_companies:** The companies involved in the production of the movie.\n",
        "\n",
        "**production_countries:** The countries where the movie was produced.\n",
        "\n",
        "**release_date:** The date when the movie was released to the public.\n",
        "\n",
        "**revenue:** The total amount of money the movie earned at the box office.\n",
        "\n",
        "**runtime:** The duration of the movie in minutes.\n",
        "\n",
        "**spoken_languages:** The languages spoken in the movie.\n",
        "\n",
        "**status:** The current status of the movie (e.g., Released, Rumored, Post Production).\n",
        "\n",
        "**tagline:** A short, memorable phrase or slogan associated with the movie.\n",
        "\n",
        "**title:** The title of the movie, often in the dataset's primary language.\n",
        "\n",
        "**video:** Indicates whether the movie has an associated video (e.g., trailer or clip).\n",
        "\n",
        "**vote_average:** The average rating given to the movie by users.\n",
        "\n",
        "**vote_count:** The number of votes or ratings received by the movie.\n"
      ],
      "metadata": {
        "id": "s6JUwozX-8_a"
      }
    },
    {
      "cell_type": "markdown",
      "source": [
        "###**Dataset Rows & Columns count**"
      ],
      "metadata": {
        "id": "ZUu_K-8--AbS"
      }
    },
    {
      "source": [
        "# Get the number of rows and columns\n",
        "num_rows = md.shape[0]\n",
        "num_cols = md.shape[1]\n",
        "\n",
        "# Print the results\n",
        "print(\"Number of rows:\", num_rows)\n",
        "print(\"Number of columns:\", num_cols)"
      ],
      "cell_type": "code",
      "metadata": {
        "colab": {
          "base_uri": "https://localhost:8080/"
        },
        "id": "AwIFcmdk4VZc",
        "outputId": "26384f13-07ae-45e7-ba4b-24bc3844752d"
      },
      "execution_count": null,
      "outputs": [
        {
          "output_type": "stream",
          "name": "stdout",
          "text": [
            "Number of rows: 45466\n",
            "Number of columns: 24\n"
          ]
        }
      ]
    },
    {
      "cell_type": "markdown",
      "source": [
        "###**Dataset Information**"
      ],
      "metadata": {
        "id": "ojW7HgXh-GxK"
      }
    },
    {
      "cell_type": "code",
      "source": [
        "# Dataset Info\n",
        "md.info()"
      ],
      "metadata": {
        "id": "T_WrhuvW-OuS",
        "colab": {
          "base_uri": "https://localhost:8080/"
        },
        "outputId": "3a0ccc8f-e41b-49ff-fbbd-0455c5c85677"
      },
      "execution_count": null,
      "outputs": [
        {
          "output_type": "stream",
          "name": "stdout",
          "text": [
            "<class 'pandas.core.frame.DataFrame'>\n",
            "RangeIndex: 45466 entries, 0 to 45465\n",
            "Data columns (total 24 columns):\n",
            " #   Column                 Non-Null Count  Dtype  \n",
            "---  ------                 --------------  -----  \n",
            " 0   adult                  45466 non-null  object \n",
            " 1   belongs_to_collection  4494 non-null   object \n",
            " 2   budget                 45466 non-null  object \n",
            " 3   genres                 45466 non-null  object \n",
            " 4   homepage               7782 non-null   object \n",
            " 5   id                     45466 non-null  object \n",
            " 6   imdb_id                45449 non-null  object \n",
            " 7   original_language      45455 non-null  object \n",
            " 8   original_title         45466 non-null  object \n",
            " 9   overview               44512 non-null  object \n",
            " 10  popularity             45461 non-null  object \n",
            " 11  poster_path            45080 non-null  object \n",
            " 12  production_companies   45463 non-null  object \n",
            " 13  production_countries   45463 non-null  object \n",
            " 14  release_date           45379 non-null  object \n",
            " 15  revenue                45460 non-null  float64\n",
            " 16  runtime                45203 non-null  float64\n",
            " 17  spoken_languages       45460 non-null  object \n",
            " 18  status                 45379 non-null  object \n",
            " 19  tagline                20412 non-null  object \n",
            " 20  title                  45460 non-null  object \n",
            " 21  video                  45460 non-null  object \n",
            " 22  vote_average           45460 non-null  float64\n",
            " 23  vote_count             45460 non-null  float64\n",
            "dtypes: float64(4), object(20)\n",
            "memory usage: 8.3+ MB\n"
          ]
        }
      ]
    },
    {
      "cell_type": "code",
      "source": [
        "# Dataset Describe\n",
        "md.describe()"
      ],
      "metadata": {
        "id": "w1ks9PaV-6I9",
        "colab": {
          "base_uri": "https://localhost:8080/",
          "height": 300
        },
        "outputId": "8494bee9-4a71-4c26-d8fb-cd713f7f7898"
      },
      "execution_count": null,
      "outputs": [
        {
          "output_type": "execute_result",
          "data": {
            "text/plain": [
              "            revenue       runtime  vote_average    vote_count\n",
              "count  4.546000e+04  45203.000000  45460.000000  45460.000000\n",
              "mean   1.120935e+07     94.128199      5.618207    109.897338\n",
              "std    6.433225e+07     38.407810      1.924216    491.310374\n",
              "min    0.000000e+00      0.000000      0.000000      0.000000\n",
              "25%    0.000000e+00     85.000000      5.000000      3.000000\n",
              "50%    0.000000e+00     95.000000      6.000000     10.000000\n",
              "75%    0.000000e+00    107.000000      6.800000     34.000000\n",
              "max    2.787965e+09   1256.000000     10.000000  14075.000000"
            ],
            "text/html": [
              "\n",
              "  <div id=\"df-2b33785a-964b-4d23-9f28-a68849d6090c\" class=\"colab-df-container\">\n",
              "    <div>\n",
              "<style scoped>\n",
              "    .dataframe tbody tr th:only-of-type {\n",
              "        vertical-align: middle;\n",
              "    }\n",
              "\n",
              "    .dataframe tbody tr th {\n",
              "        vertical-align: top;\n",
              "    }\n",
              "\n",
              "    .dataframe thead th {\n",
              "        text-align: right;\n",
              "    }\n",
              "</style>\n",
              "<table border=\"1\" class=\"dataframe\">\n",
              "  <thead>\n",
              "    <tr style=\"text-align: right;\">\n",
              "      <th></th>\n",
              "      <th>revenue</th>\n",
              "      <th>runtime</th>\n",
              "      <th>vote_average</th>\n",
              "      <th>vote_count</th>\n",
              "    </tr>\n",
              "  </thead>\n",
              "  <tbody>\n",
              "    <tr>\n",
              "      <th>count</th>\n",
              "      <td>4.546000e+04</td>\n",
              "      <td>45203.000000</td>\n",
              "      <td>45460.000000</td>\n",
              "      <td>45460.000000</td>\n",
              "    </tr>\n",
              "    <tr>\n",
              "      <th>mean</th>\n",
              "      <td>1.120935e+07</td>\n",
              "      <td>94.128199</td>\n",
              "      <td>5.618207</td>\n",
              "      <td>109.897338</td>\n",
              "    </tr>\n",
              "    <tr>\n",
              "      <th>std</th>\n",
              "      <td>6.433225e+07</td>\n",
              "      <td>38.407810</td>\n",
              "      <td>1.924216</td>\n",
              "      <td>491.310374</td>\n",
              "    </tr>\n",
              "    <tr>\n",
              "      <th>min</th>\n",
              "      <td>0.000000e+00</td>\n",
              "      <td>0.000000</td>\n",
              "      <td>0.000000</td>\n",
              "      <td>0.000000</td>\n",
              "    </tr>\n",
              "    <tr>\n",
              "      <th>25%</th>\n",
              "      <td>0.000000e+00</td>\n",
              "      <td>85.000000</td>\n",
              "      <td>5.000000</td>\n",
              "      <td>3.000000</td>\n",
              "    </tr>\n",
              "    <tr>\n",
              "      <th>50%</th>\n",
              "      <td>0.000000e+00</td>\n",
              "      <td>95.000000</td>\n",
              "      <td>6.000000</td>\n",
              "      <td>10.000000</td>\n",
              "    </tr>\n",
              "    <tr>\n",
              "      <th>75%</th>\n",
              "      <td>0.000000e+00</td>\n",
              "      <td>107.000000</td>\n",
              "      <td>6.800000</td>\n",
              "      <td>34.000000</td>\n",
              "    </tr>\n",
              "    <tr>\n",
              "      <th>max</th>\n",
              "      <td>2.787965e+09</td>\n",
              "      <td>1256.000000</td>\n",
              "      <td>10.000000</td>\n",
              "      <td>14075.000000</td>\n",
              "    </tr>\n",
              "  </tbody>\n",
              "</table>\n",
              "</div>\n",
              "    <div class=\"colab-df-buttons\">\n",
              "\n",
              "  <div class=\"colab-df-container\">\n",
              "    <button class=\"colab-df-convert\" onclick=\"convertToInteractive('df-2b33785a-964b-4d23-9f28-a68849d6090c')\"\n",
              "            title=\"Convert this dataframe to an interactive table.\"\n",
              "            style=\"display:none;\">\n",
              "\n",
              "  <svg xmlns=\"http://www.w3.org/2000/svg\" height=\"24px\" viewBox=\"0 -960 960 960\">\n",
              "    <path d=\"M120-120v-720h720v720H120Zm60-500h600v-160H180v160Zm220 220h160v-160H400v160Zm0 220h160v-160H400v160ZM180-400h160v-160H180v160Zm440 0h160v-160H620v160ZM180-180h160v-160H180v160Zm440 0h160v-160H620v160Z\"/>\n",
              "  </svg>\n",
              "    </button>\n",
              "\n",
              "  <style>\n",
              "    .colab-df-container {\n",
              "      display:flex;\n",
              "      gap: 12px;\n",
              "    }\n",
              "\n",
              "    .colab-df-convert {\n",
              "      background-color: #E8F0FE;\n",
              "      border: none;\n",
              "      border-radius: 50%;\n",
              "      cursor: pointer;\n",
              "      display: none;\n",
              "      fill: #1967D2;\n",
              "      height: 32px;\n",
              "      padding: 0 0 0 0;\n",
              "      width: 32px;\n",
              "    }\n",
              "\n",
              "    .colab-df-convert:hover {\n",
              "      background-color: #E2EBFA;\n",
              "      box-shadow: 0px 1px 2px rgba(60, 64, 67, 0.3), 0px 1px 3px 1px rgba(60, 64, 67, 0.15);\n",
              "      fill: #174EA6;\n",
              "    }\n",
              "\n",
              "    .colab-df-buttons div {\n",
              "      margin-bottom: 4px;\n",
              "    }\n",
              "\n",
              "    [theme=dark] .colab-df-convert {\n",
              "      background-color: #3B4455;\n",
              "      fill: #D2E3FC;\n",
              "    }\n",
              "\n",
              "    [theme=dark] .colab-df-convert:hover {\n",
              "      background-color: #434B5C;\n",
              "      box-shadow: 0px 1px 3px 1px rgba(0, 0, 0, 0.15);\n",
              "      filter: drop-shadow(0px 1px 2px rgba(0, 0, 0, 0.3));\n",
              "      fill: #FFFFFF;\n",
              "    }\n",
              "  </style>\n",
              "\n",
              "    <script>\n",
              "      const buttonEl =\n",
              "        document.querySelector('#df-2b33785a-964b-4d23-9f28-a68849d6090c button.colab-df-convert');\n",
              "      buttonEl.style.display =\n",
              "        google.colab.kernel.accessAllowed ? 'block' : 'none';\n",
              "\n",
              "      async function convertToInteractive(key) {\n",
              "        const element = document.querySelector('#df-2b33785a-964b-4d23-9f28-a68849d6090c');\n",
              "        const dataTable =\n",
              "          await google.colab.kernel.invokeFunction('convertToInteractive',\n",
              "                                                    [key], {});\n",
              "        if (!dataTable) return;\n",
              "\n",
              "        const docLinkHtml = 'Like what you see? Visit the ' +\n",
              "          '<a target=\"_blank\" href=https://colab.research.google.com/notebooks/data_table.ipynb>data table notebook</a>'\n",
              "          + ' to learn more about interactive tables.';\n",
              "        element.innerHTML = '';\n",
              "        dataTable['output_type'] = 'display_data';\n",
              "        await google.colab.output.renderOutput(dataTable, element);\n",
              "        const docLink = document.createElement('div');\n",
              "        docLink.innerHTML = docLinkHtml;\n",
              "        element.appendChild(docLink);\n",
              "      }\n",
              "    </script>\n",
              "  </div>\n",
              "\n",
              "\n",
              "<div id=\"df-c4738238-a255-4dc8-a2db-cbe0b5fcf107\">\n",
              "  <button class=\"colab-df-quickchart\" onclick=\"quickchart('df-c4738238-a255-4dc8-a2db-cbe0b5fcf107')\"\n",
              "            title=\"Suggest charts\"\n",
              "            style=\"display:none;\">\n",
              "\n",
              "<svg xmlns=\"http://www.w3.org/2000/svg\" height=\"24px\"viewBox=\"0 0 24 24\"\n",
              "     width=\"24px\">\n",
              "    <g>\n",
              "        <path d=\"M19 3H5c-1.1 0-2 .9-2 2v14c0 1.1.9 2 2 2h14c1.1 0 2-.9 2-2V5c0-1.1-.9-2-2-2zM9 17H7v-7h2v7zm4 0h-2V7h2v10zm4 0h-2v-4h2v4z\"/>\n",
              "    </g>\n",
              "</svg>\n",
              "  </button>\n",
              "\n",
              "<style>\n",
              "  .colab-df-quickchart {\n",
              "      --bg-color: #E8F0FE;\n",
              "      --fill-color: #1967D2;\n",
              "      --hover-bg-color: #E2EBFA;\n",
              "      --hover-fill-color: #174EA6;\n",
              "      --disabled-fill-color: #AAA;\n",
              "      --disabled-bg-color: #DDD;\n",
              "  }\n",
              "\n",
              "  [theme=dark] .colab-df-quickchart {\n",
              "      --bg-color: #3B4455;\n",
              "      --fill-color: #D2E3FC;\n",
              "      --hover-bg-color: #434B5C;\n",
              "      --hover-fill-color: #FFFFFF;\n",
              "      --disabled-bg-color: #3B4455;\n",
              "      --disabled-fill-color: #666;\n",
              "  }\n",
              "\n",
              "  .colab-df-quickchart {\n",
              "    background-color: var(--bg-color);\n",
              "    border: none;\n",
              "    border-radius: 50%;\n",
              "    cursor: pointer;\n",
              "    display: none;\n",
              "    fill: var(--fill-color);\n",
              "    height: 32px;\n",
              "    padding: 0;\n",
              "    width: 32px;\n",
              "  }\n",
              "\n",
              "  .colab-df-quickchart:hover {\n",
              "    background-color: var(--hover-bg-color);\n",
              "    box-shadow: 0 1px 2px rgba(60, 64, 67, 0.3), 0 1px 3px 1px rgba(60, 64, 67, 0.15);\n",
              "    fill: var(--button-hover-fill-color);\n",
              "  }\n",
              "\n",
              "  .colab-df-quickchart-complete:disabled,\n",
              "  .colab-df-quickchart-complete:disabled:hover {\n",
              "    background-color: var(--disabled-bg-color);\n",
              "    fill: var(--disabled-fill-color);\n",
              "    box-shadow: none;\n",
              "  }\n",
              "\n",
              "  .colab-df-spinner {\n",
              "    border: 2px solid var(--fill-color);\n",
              "    border-color: transparent;\n",
              "    border-bottom-color: var(--fill-color);\n",
              "    animation:\n",
              "      spin 1s steps(1) infinite;\n",
              "  }\n",
              "\n",
              "  @keyframes spin {\n",
              "    0% {\n",
              "      border-color: transparent;\n",
              "      border-bottom-color: var(--fill-color);\n",
              "      border-left-color: var(--fill-color);\n",
              "    }\n",
              "    20% {\n",
              "      border-color: transparent;\n",
              "      border-left-color: var(--fill-color);\n",
              "      border-top-color: var(--fill-color);\n",
              "    }\n",
              "    30% {\n",
              "      border-color: transparent;\n",
              "      border-left-color: var(--fill-color);\n",
              "      border-top-color: var(--fill-color);\n",
              "      border-right-color: var(--fill-color);\n",
              "    }\n",
              "    40% {\n",
              "      border-color: transparent;\n",
              "      border-right-color: var(--fill-color);\n",
              "      border-top-color: var(--fill-color);\n",
              "    }\n",
              "    60% {\n",
              "      border-color: transparent;\n",
              "      border-right-color: var(--fill-color);\n",
              "    }\n",
              "    80% {\n",
              "      border-color: transparent;\n",
              "      border-right-color: var(--fill-color);\n",
              "      border-bottom-color: var(--fill-color);\n",
              "    }\n",
              "    90% {\n",
              "      border-color: transparent;\n",
              "      border-bottom-color: var(--fill-color);\n",
              "    }\n",
              "  }\n",
              "</style>\n",
              "\n",
              "  <script>\n",
              "    async function quickchart(key) {\n",
              "      const quickchartButtonEl =\n",
              "        document.querySelector('#' + key + ' button');\n",
              "      quickchartButtonEl.disabled = true;  // To prevent multiple clicks.\n",
              "      quickchartButtonEl.classList.add('colab-df-spinner');\n",
              "      try {\n",
              "        const charts = await google.colab.kernel.invokeFunction(\n",
              "            'suggestCharts', [key], {});\n",
              "      } catch (error) {\n",
              "        console.error('Error during call to suggestCharts:', error);\n",
              "      }\n",
              "      quickchartButtonEl.classList.remove('colab-df-spinner');\n",
              "      quickchartButtonEl.classList.add('colab-df-quickchart-complete');\n",
              "    }\n",
              "    (() => {\n",
              "      let quickchartButtonEl =\n",
              "        document.querySelector('#df-c4738238-a255-4dc8-a2db-cbe0b5fcf107 button');\n",
              "      quickchartButtonEl.style.display =\n",
              "        google.colab.kernel.accessAllowed ? 'block' : 'none';\n",
              "    })();\n",
              "  </script>\n",
              "</div>\n",
              "\n",
              "    </div>\n",
              "  </div>\n"
            ],
            "application/vnd.google.colaboratory.intrinsic+json": {
              "type": "dataframe",
              "summary": "{\n  \"name\": \"md\",\n  \"rows\": 8,\n  \"fields\": [\n    {\n      \"column\": \"revenue\",\n      \"properties\": {\n        \"dtype\": \"number\",\n        \"std\": 982127592.5923291,\n        \"min\": 0.0,\n        \"max\": 2787965087.0,\n        \"num_unique_values\": 5,\n        \"samples\": [\n          11209348.539265288,\n          2787965087.0,\n          64332246.740631126\n        ],\n        \"semantic_type\": \"\",\n        \"description\": \"\"\n      }\n    },\n    {\n      \"column\": \"runtime\",\n      \"properties\": {\n        \"dtype\": \"number\",\n        \"std\": 15902.502664555748,\n        \"min\": 0.0,\n        \"max\": 45203.0,\n        \"num_unique_values\": 8,\n        \"samples\": [\n          94.12819945578833,\n          95.0,\n          45203.0\n        ],\n        \"semantic_type\": \"\",\n        \"description\": \"\"\n      }\n    },\n    {\n      \"column\": \"vote_average\",\n      \"properties\": {\n        \"dtype\": \"number\",\n        \"std\": 16070.752359182798,\n        \"min\": 0.0,\n        \"max\": 45460.0,\n        \"num_unique_values\": 8,\n        \"samples\": [\n          5.618207215134185,\n          6.0,\n          45460.0\n        ],\n        \"semantic_type\": \"\",\n        \"description\": \"\"\n      }\n    },\n    {\n      \"column\": \"vote_count\",\n      \"properties\": {\n        \"dtype\": \"number\",\n        \"std\": 16090.013060419962,\n        \"min\": 0.0,\n        \"max\": 45460.0,\n        \"num_unique_values\": 8,\n        \"samples\": [\n          109.89733831940167,\n          10.0,\n          45460.0\n        ],\n        \"semantic_type\": \"\",\n        \"description\": \"\"\n      }\n    }\n  ]\n}"
            }
          },
          "metadata": {},
          "execution_count": 8
        }
      ]
    },
    {
      "cell_type": "markdown",
      "source": [
        "###**Duplicate Values**"
      ],
      "metadata": {
        "id": "oqef3wiU-PBi"
      }
    },
    {
      "cell_type": "code",
      "source": [
        "# Dataset Duplicate Value Count\n",
        "\n",
        "md.duplicated().sum()"
      ],
      "metadata": {
        "id": "hG1Qk-TP-Vra",
        "colab": {
          "base_uri": "https://localhost:8080/"
        },
        "outputId": "ad73cd50-c50d-4079-ca1b-180fa22ec0a5"
      },
      "execution_count": null,
      "outputs": [
        {
          "output_type": "execute_result",
          "data": {
            "text/plain": [
              "13"
            ]
          },
          "metadata": {},
          "execution_count": 9
        }
      ]
    },
    {
      "cell_type": "markdown",
      "source": [
        "###**Missing Values/Null Values**"
      ],
      "metadata": {
        "id": "Dy6YSiWp-WQC"
      }
    },
    {
      "cell_type": "code",
      "source": [
        "# Missing Values/Null Values Count\n",
        "md.isnull().sum()"
      ],
      "metadata": {
        "id": "RbSVO2oo-ZuL",
        "colab": {
          "base_uri": "https://localhost:8080/",
          "height": 836
        },
        "outputId": "89a77b39-c8ed-4c64-e0fd-96d6a5850953"
      },
      "execution_count": null,
      "outputs": [
        {
          "output_type": "execute_result",
          "data": {
            "text/plain": [
              "adult                        0\n",
              "belongs_to_collection    40972\n",
              "budget                       0\n",
              "genres                       0\n",
              "homepage                 37684\n",
              "id                           0\n",
              "imdb_id                     17\n",
              "original_language           11\n",
              "original_title               0\n",
              "overview                   954\n",
              "popularity                   5\n",
              "poster_path                386\n",
              "production_companies         3\n",
              "production_countries         3\n",
              "release_date                87\n",
              "revenue                      6\n",
              "runtime                    263\n",
              "spoken_languages             6\n",
              "status                      87\n",
              "tagline                  25054\n",
              "title                        6\n",
              "video                        6\n",
              "vote_average                 6\n",
              "vote_count                   6\n",
              "dtype: int64"
            ],
            "text/html": [
              "<div>\n",
              "<style scoped>\n",
              "    .dataframe tbody tr th:only-of-type {\n",
              "        vertical-align: middle;\n",
              "    }\n",
              "\n",
              "    .dataframe tbody tr th {\n",
              "        vertical-align: top;\n",
              "    }\n",
              "\n",
              "    .dataframe thead th {\n",
              "        text-align: right;\n",
              "    }\n",
              "</style>\n",
              "<table border=\"1\" class=\"dataframe\">\n",
              "  <thead>\n",
              "    <tr style=\"text-align: right;\">\n",
              "      <th></th>\n",
              "      <th>0</th>\n",
              "    </tr>\n",
              "  </thead>\n",
              "  <tbody>\n",
              "    <tr>\n",
              "      <th>adult</th>\n",
              "      <td>0</td>\n",
              "    </tr>\n",
              "    <tr>\n",
              "      <th>belongs_to_collection</th>\n",
              "      <td>40972</td>\n",
              "    </tr>\n",
              "    <tr>\n",
              "      <th>budget</th>\n",
              "      <td>0</td>\n",
              "    </tr>\n",
              "    <tr>\n",
              "      <th>genres</th>\n",
              "      <td>0</td>\n",
              "    </tr>\n",
              "    <tr>\n",
              "      <th>homepage</th>\n",
              "      <td>37684</td>\n",
              "    </tr>\n",
              "    <tr>\n",
              "      <th>id</th>\n",
              "      <td>0</td>\n",
              "    </tr>\n",
              "    <tr>\n",
              "      <th>imdb_id</th>\n",
              "      <td>17</td>\n",
              "    </tr>\n",
              "    <tr>\n",
              "      <th>original_language</th>\n",
              "      <td>11</td>\n",
              "    </tr>\n",
              "    <tr>\n",
              "      <th>original_title</th>\n",
              "      <td>0</td>\n",
              "    </tr>\n",
              "    <tr>\n",
              "      <th>overview</th>\n",
              "      <td>954</td>\n",
              "    </tr>\n",
              "    <tr>\n",
              "      <th>popularity</th>\n",
              "      <td>5</td>\n",
              "    </tr>\n",
              "    <tr>\n",
              "      <th>poster_path</th>\n",
              "      <td>386</td>\n",
              "    </tr>\n",
              "    <tr>\n",
              "      <th>production_companies</th>\n",
              "      <td>3</td>\n",
              "    </tr>\n",
              "    <tr>\n",
              "      <th>production_countries</th>\n",
              "      <td>3</td>\n",
              "    </tr>\n",
              "    <tr>\n",
              "      <th>release_date</th>\n",
              "      <td>87</td>\n",
              "    </tr>\n",
              "    <tr>\n",
              "      <th>revenue</th>\n",
              "      <td>6</td>\n",
              "    </tr>\n",
              "    <tr>\n",
              "      <th>runtime</th>\n",
              "      <td>263</td>\n",
              "    </tr>\n",
              "    <tr>\n",
              "      <th>spoken_languages</th>\n",
              "      <td>6</td>\n",
              "    </tr>\n",
              "    <tr>\n",
              "      <th>status</th>\n",
              "      <td>87</td>\n",
              "    </tr>\n",
              "    <tr>\n",
              "      <th>tagline</th>\n",
              "      <td>25054</td>\n",
              "    </tr>\n",
              "    <tr>\n",
              "      <th>title</th>\n",
              "      <td>6</td>\n",
              "    </tr>\n",
              "    <tr>\n",
              "      <th>video</th>\n",
              "      <td>6</td>\n",
              "    </tr>\n",
              "    <tr>\n",
              "      <th>vote_average</th>\n",
              "      <td>6</td>\n",
              "    </tr>\n",
              "    <tr>\n",
              "      <th>vote_count</th>\n",
              "      <td>6</td>\n",
              "    </tr>\n",
              "  </tbody>\n",
              "</table>\n",
              "</div><br><label><b>dtype:</b> int64</label>"
            ]
          },
          "metadata": {},
          "execution_count": 10
        }
      ]
    },
    {
      "cell_type": "markdown",
      "source": [
        "#**3. Data Wrangling**"
      ],
      "metadata": {
        "id": "CLj74sHw_Oiy"
      }
    },
    {
      "cell_type": "markdown",
      "source": [
        "###**Data Wrangling Code**"
      ],
      "metadata": {
        "id": "j7oAp3mX_VeS"
      }
    },
    {
      "cell_type": "markdown",
      "source": [
        "**Handling Duplicate Values**"
      ],
      "metadata": {
        "id": "q4EYG8ACCkTJ"
      }
    },
    {
      "cell_type": "code",
      "source": [
        "md.drop_duplicates(inplace=True)\n",
        "print(f\"Number of duplicate rows after removal: {md.duplicated().sum()}\") # Check if any duplicates remain"
      ],
      "metadata": {
        "id": "_AMemlul_Rxy",
        "colab": {
          "base_uri": "https://localhost:8080/"
        },
        "outputId": "d0fbd686-db56-4d07-d0fa-ad3de18d7872"
      },
      "execution_count": null,
      "outputs": [
        {
          "output_type": "stream",
          "name": "stdout",
          "text": [
            "Number of duplicate rows after removal: 0\n"
          ]
        }
      ]
    },
    {
      "cell_type": "markdown",
      "source": [
        "**Handle Missing Values**"
      ],
      "metadata": {
        "id": "Sg8i_iiZCyLH"
      }
    },
    {
      "cell_type": "markdown",
      "source": [
        "The feature **belongs_to_collection** has 40972 missing values. With so many missing entries, simply dropping rows or trying to impute the data isn't a good strategy. Hence we are going to extract the specific name of the collection and and missing values as unknown and also creating a feature with binary values that indicates whether a movie belongs to a collection or not."
      ],
      "metadata": {
        "id": "FkxBQ5AvG0xy"
      }
    },
    {
      "cell_type": "code",
      "source": [
        "# Convert stringified dicts to actual dicts, handle errors\n",
        "md['belongs_to_collection'] = md['belongs_to_collection'].apply(lambda x: literal_eval(x) if pd.notnull(x) else np.nan)\n",
        "\n",
        "# Extract collection name, handle missing values\n",
        "md['collection_name'] = md['belongs_to_collection'].apply(lambda x: x['name'] if isinstance(x, dict) and 'name' in x else \"Unknown\")\n",
        "\n",
        "# Create the binary feature\n",
        "md['in_collection'] = md['belongs_to_collection'].notna().astype(int)\n",
        "\n",
        "# Drop the original column if you don't need it anymore\n",
        "md.drop('belongs_to_collection', axis=1, inplace=True)"
      ],
      "metadata": {
        "id": "syZ56oK-C14A"
      },
      "execution_count": null,
      "outputs": []
    },
    {
      "cell_type": "markdown",
      "source": [
        "By using this approach, we can effectively handle the large number of missing values while still capturing the important information about whether a movie belongs to a collection, which can be a useful feature for your recommendation system."
      ],
      "metadata": {
        "id": "AlKzz9P6I6WP"
      }
    },
    {
      "cell_type": "markdown",
      "source": [
        "**homepage (37684 missing)**: Similar to belongs_to_collection, this has a high number of missing values. For recommendation systems, this information isn't crucial. Therefore, we can drop this column entirely."
      ],
      "metadata": {
        "id": "HVfZjM3vJExb"
      }
    },
    {
      "cell_type": "code",
      "source": [
        "# Drop the homepage column\n",
        "md.drop('homepage', axis=1, inplace=True)"
      ],
      "metadata": {
        "id": "CN8jXKoVJZbf"
      },
      "execution_count": null,
      "outputs": []
    },
    {
      "cell_type": "markdown",
      "source": [
        "**imdb_id (17 missing), original_language (11 missing), original_title (0 missing), title (6 missing), video (6 missing)**: These have a small number of missing values. We can drop the rows with missing values in these columns as they are few."
      ],
      "metadata": {
        "id": "gYEecKKsJlDa"
      }
    },
    {
      "cell_type": "code",
      "source": [
        "md.dropna(subset=['imdb_id', 'original_language', 'title', 'video'], inplace=True)"
      ],
      "metadata": {
        "id": "RlSUeP9aJrwz"
      },
      "execution_count": null,
      "outputs": []
    },
    {
      "cell_type": "markdown",
      "source": [
        "**overview (954 missing):** This is important for content-based filtering. Filling missing overviews with an empty string ('') is a reasonable approach."
      ],
      "metadata": {
        "id": "Cl4KqgaEJx8C"
      }
    },
    {
      "cell_type": "code",
      "source": [
        "md['overview'].fillna('', inplace=True)"
      ],
      "metadata": {
        "id": "jOB744gIJ46q"
      },
      "execution_count": null,
      "outputs": []
    },
    {
      "cell_type": "markdown",
      "source": [
        "**popularity (5 missing), revenue (6 missing), runtime (263 missing), vote_average (6 missing), vote_count (6 missing):** These are numerical features. For a small number of missing values, we could drop the values and for runtime we can use mean imputation."
      ],
      "metadata": {
        "id": "LGn0IvA3J7Gi"
      }
    },
    {
      "cell_type": "code",
      "source": [
        "#Drop rows\n",
        "md.dropna(subset=['popularity', 'revenue', 'vote_average', 'vote_count'], inplace=True)\n",
        "\n",
        "#Imputation\n",
        "md['runtime'].fillna(md['runtime'].mean(), inplace=True)"
      ],
      "metadata": {
        "id": "D731r5gyKLHa"
      },
      "execution_count": null,
      "outputs": []
    },
    {
      "cell_type": "markdown",
      "source": [
        "**poster_path (386 missing):** This is important for visual display but not directly used in most recommendation algorithms. We can drop the column entirely."
      ],
      "metadata": {
        "id": "GNTnE7bxK6gL"
      }
    },
    {
      "cell_type": "code",
      "source": [
        "md.drop('poster_path', axis=1, inplace=True)"
      ],
      "metadata": {
        "id": "rF5mO73BLJqh"
      },
      "execution_count": null,
      "outputs": []
    },
    {
      "cell_type": "markdown",
      "source": [
        "**production_companies (3 missing), production_countries (3 missing), spoken_languages (6 missing):** These are often lists. Similar to genres, fill with empty lists."
      ],
      "metadata": {
        "id": "bBQfWeUNLa65"
      }
    },
    {
      "cell_type": "code",
      "source": [
        "for feature in ['genres', 'production_companies', 'production_countries', 'spoken_languages']:\n",
        "    md[feature].fillna('[]', inplace=True)\n",
        "    md[feature] = md[feature].apply(literal_eval).apply(lambda x: [i['name'] for i in x] if isinstance(x, list) else [])"
      ],
      "metadata": {
        "id": "y3uvuFQEf7vK"
      },
      "execution_count": null,
      "outputs": []
    },
    {
      "cell_type": "markdown",
      "source": [
        "**release_date (87 missing), status (87 missing):**\n",
        "\n",
        "Small Percentage: 87 missing values likely represent a very small percentage of overall data. Removing them won't significantly reduce dataset size.\n",
        "No Good Imputation Strategy: There isn't a reliable way to impute release_date or status. Imputing a release date with the mean or median wouldn't make sense, and there's no logical way to guess a movie's status.\n",
        "Potential for Bias: Incorrectly imputed values could introduce noise or bias into your recommendation system.\n",
        "\n",
        "Dropping the rows with missing release_date or status is the cleanest approach."
      ],
      "metadata": {
        "id": "vkFWCSiKMVih"
      }
    },
    {
      "cell_type": "code",
      "source": [
        "md.dropna(subset=['release_date', 'status'], inplace=True)"
      ],
      "metadata": {
        "id": "WlJZ6bgfb9rU"
      },
      "execution_count": null,
      "outputs": []
    },
    {
      "cell_type": "markdown",
      "source": [
        "**tagline (25054 missing):** Similar to overview, we can fill with empty strings."
      ],
      "metadata": {
        "id": "QnMGqQZAcse_"
      }
    },
    {
      "cell_type": "code",
      "source": [
        "md['tagline'].fillna('', inplace=True)"
      ],
      "metadata": {
        "id": "tjNOHQmAcssf"
      },
      "execution_count": null,
      "outputs": []
    },
    {
      "cell_type": "markdown",
      "source": [
        "**Convert release_date to datetime and extract year**"
      ],
      "metadata": {
        "id": "pHs4rrFFgPx_"
      }
    },
    {
      "cell_type": "code",
      "source": [
        "# Convert release_date to datetime and extract year\n",
        "md['release_date'] = pd.to_datetime(md['release_date'], errors='coerce')\n",
        "md['release_year'] = md['release_date'].dt.year"
      ],
      "metadata": {
        "id": "ti5q1DLRgQr2"
      },
      "execution_count": null,
      "outputs": []
    },
    {
      "cell_type": "markdown",
      "source": [
        "**Convert budget and revenue to numeric, handling errors**"
      ],
      "metadata": {
        "id": "ZkQLx4iJgfAX"
      }
    },
    {
      "cell_type": "code",
      "source": [
        "# Convert budget and revenue to numeric, handling errors\n",
        "md['budget'] = pd.to_numeric(md['budget'], errors='coerce')\n",
        "md['revenue'] = pd.to_numeric(md['revenue'], errors='coerce')"
      ],
      "metadata": {
        "id": "Pvl6v8Xegehv"
      },
      "execution_count": null,
      "outputs": []
    },
    {
      "cell_type": "code",
      "source": [
        "print(md[['budget', 'revenue']].isnull().sum())\n"
      ],
      "metadata": {
        "colab": {
          "base_uri": "https://localhost:8080/"
        },
        "id": "ijJGsSsOhcrw",
        "outputId": "378bb52b-c77e-40a4-feb5-6d5f5b04e4ef"
      },
      "execution_count": null,
      "outputs": [
        {
          "output_type": "stream",
          "name": "stdout",
          "text": [
            "budget     0\n",
            "revenue    0\n",
            "dtype: int64\n"
          ]
        }
      ]
    },
    {
      "cell_type": "markdown",
      "source": [
        "##**Data Manipulations:**\n"
      ],
      "metadata": {
        "id": "xIEwZva6BM19"
      }
    },
    {
      "cell_type": "markdown",
      "source": [
        "#**4. Data Vizualization, Storytelling & Experimenting with charts : Understand the relationships between variables**"
      ],
      "metadata": {
        "id": "XPa7FF3fBmyC"
      }
    },
    {
      "cell_type": "markdown",
      "source": [
        "###**Chart - 1 : Distribution of Movie Release Years (Histogram/KDE)**"
      ],
      "metadata": {
        "id": "93k0_g-lBpKk"
      }
    },
    {
      "cell_type": "code",
      "source": [
        "# Chart - 1  Distribution of Movie Release Years (Histogram/KDE)\n",
        "\n",
        "plt.figure(figsize=(10, 6))\n",
        "sns.histplot(md['release_year'].dropna(), bins=30, kde=True)\n",
        "plt.title('Distribution of Movie Release Years')\n",
        "plt.xlabel('Release Year')\n",
        "plt.ylabel('Number of Movies')\n",
        "plt.show()"
      ],
      "metadata": {
        "id": "O3bFEGxtBNcx",
        "colab": {
          "base_uri": "https://localhost:8080/",
          "height": 564
        },
        "outputId": "6d55689b-65ea-4f75-dcef-9befd5818566"
      },
      "execution_count": null,
      "outputs": [
        {
          "output_type": "display_data",
          "data": {
            "text/plain": [
              "<Figure size 1000x600 with 1 Axes>"
            ],
            "image/png": "[encoded data removed]"
          },
          "metadata": {}
        }
      ]
    },
    {
      "cell_type": "markdown",
      "source": [
        "###**Chart-2: Distribution of Movie Budgets (Histogram/Box Plot)**"
      ],
      "metadata": {
        "id": "sKiCt5f1CQcD"
      }
    },
    {
      "cell_type": "code",
      "source": [
        "# Chart-2: Distribution of Movie Budgets (Histogram/Box Plot)\n",
        "\n",
        "plt.figure(figsize=(10, 6))\n",
        "sns.boxplot(x=md['budget'])\n",
        "plt.title('Distribution of Movie Budgets')\n",
        "plt.xlabel('Budget')\n",
        "plt.show()"
      ],
      "metadata": {
        "id": "lwcmNYZrCcwC",
        "colab": {
          "base_uri": "https://localhost:8080/",
          "height": 564
        },
        "outputId": "4e7ad3a3-1e18-4f7d-99a7-191da5649168"
      },
      "execution_count": null,
      "outputs": [
        {
          "output_type": "display_data",
          "data": {
            "text/plain": [
              "<Figure size 1000x600 with 1 Axes>"
            ],
            "image/png": "[encoded data removed]"
          },
          "metadata": {}
        }
      ]
    },
    {
      "cell_type": "markdown",
      "source": [
        "###**Chart-3: Distribution of Movie Revenue (Histogram/Box Plot)**"
      ],
      "metadata": {
        "id": "WleK0Z0EClqz"
      }
    },
    {
      "cell_type": "code",
      "source": [
        "# Chart - 3 Distribution of Movie Revenue (Histogram/Box Plot)\n",
        "\n",
        "plt.figure(figsize=(10, 6))\n",
        "sns.boxplot(x=md['revenue'])\n",
        "plt.title('Distribution of Movie Revenue')\n",
        "plt.xlabel('Revenue')\n",
        "plt.show()"
      ],
      "metadata": {
        "id": "-czN4RsoC1_j",
        "colab": {
          "base_uri": "https://localhost:8080/",
          "height": 564
        },
        "outputId": "c98c84a5-fc03-45d8-ef56-c2c81aa072fe"
      },
      "execution_count": null,
      "outputs": [
        {
          "output_type": "display_data",
          "data": {
            "text/plain": [
              "<Figure size 1000x600 with 1 Axes>"
            ],
            "image/png": "[encoded data removed]"
          },
          "metadata": {}
        }
      ]
    },
    {
      "cell_type": "markdown",
      "source": [
        "###**Chart-4: Vote Average vs. Vote Count (Scatter Plot)**"
      ],
      "metadata": {
        "id": "V_qEWCZFELct"
      }
    },
    {
      "cell_type": "code",
      "source": [
        "# Chart - 4 Vote Average vs. Vote Count (Scatter Plot)\n",
        "\n",
        "plt.figure(figsize=(8, 6))\n",
        "sns.scatterplot(x='vote_average', y='vote_count', data=md)\n",
        "plt.title('Vote Average vs. Vote Count')\n",
        "plt.xlabel('Vote Average')\n",
        "plt.ylabel('Vote Count')\n",
        "plt.show()"
      ],
      "metadata": {
        "id": "3-ZR4EbbESIL",
        "colab": {
          "base_uri": "https://localhost:8080/",
          "height": 564
        },
        "outputId": "34a236d5-2d0f-47d1-a5af-dc91b146eca1"
      },
      "execution_count": null,
      "outputs": [
        {
          "output_type": "display_data",
          "data": {
            "text/plain": [
              "<Figure size 800x600 with 1 Axes>"
            ],
            "image/png": "[encoded data removed]"
          },
          "metadata": {}
        }
      ]
    },
    {
      "cell_type": "markdown",
      "source": [
        "###**Chart-5: Top Genres (Bar Chart)**"
      ],
      "metadata": {
        "id": "a0502l47EQ_a"
      }
    },
    {
      "cell_type": "code",
      "source": [
        "# Chart - 5 Top Genres (Bar Chart)\n",
        "\n",
        "from collections import Counter\n",
        "genre_counts = Counter([genre for genres in md['genres'] for genre in genres])\n",
        "top_genres = genre_counts.most_common(10) #Get top 10\n",
        "\n",
        "plt.figure(figsize=(12, 6))\n",
        "sns.barplot(x=[genre[0] for genre in top_genres], y=[genre[1] for genre in top_genres])\n",
        "plt.xticks(rotation=45, ha='right')\n",
        "plt.title('Top 10 Movie Genres')\n",
        "plt.xlabel('Genre')\n",
        "plt.ylabel('Number of Movies')\n",
        "plt.tight_layout() #Adjusts plot to prevent labels from being cut off\n",
        "plt.show()"
      ],
      "metadata": {
        "id": "Y4OrtCvVEa-k",
        "colab": {
          "base_uri": "https://localhost:8080/",
          "height": 607
        },
        "outputId": "0364200b-0cef-46a7-a67e-0c46a0100455"
      },
      "execution_count": null,
      "outputs": [
        {
          "output_type": "display_data",
          "data": {
            "text/plain": [
              "<Figure size 1200x600 with 1 Axes>"
            ],
            "image/png": "[encoded data removed]"
          },
          "metadata": {}
        }
      ]
    },
    {
      "cell_type": "markdown",
      "source": [
        "###**Chart-6:Top Production Companies (Bar Chart)**"
      ],
      "metadata": {
        "id": "5odFM1Erj5sr"
      }
    },
    {
      "cell_type": "code",
      "source": [
        "#**Chart-6:Top Production Companies (Bar Chart)\n",
        "\n",
        "production_counts = Counter([company for companies in md['production_companies'] for company in companies])\n",
        "top_production = production_counts.most_common(10)\n",
        "\n",
        "plt.figure(figsize=(12, 6))\n",
        "sns.barplot(x=[company[0] for company in top_production], y=[company[1] for company in top_production])\n",
        "plt.xticks(rotation=45, ha='right')\n",
        "plt.title('Top 10 Production Companies')\n",
        "plt.xlabel('Production Company')\n",
        "plt.ylabel('Number of Movies')\n",
        "plt.tight_layout()\n",
        "plt.show()"
      ],
      "metadata": {
        "colab": {
          "base_uri": "https://localhost:8080/",
          "height": 607
        },
        "id": "cCSpdQV9j6i4",
        "outputId": "53808ee2-e12b-4256-eeee-d986a46337f0"
      },
      "execution_count": null,
      "outputs": [
        {
          "output_type": "display_data",
          "data": {
            "text/plain": [
              "<Figure size 1200x600 with 1 Axes>"
            ],
            "image/png": "[encoded data removed]"
          },
          "metadata": {}
        }
      ]
    },
    {
      "cell_type": "markdown",
      "source": [
        "###**Chart-7:Movie Runtime Distribution (Histogram/KDE)**"
      ],
      "metadata": {
        "id": "wXhD52ZCkPmn"
      }
    },
    {
      "cell_type": "code",
      "source": [
        "#Chart-7:Movie Runtime Distribution (Histogram/KDE)\n",
        "\n",
        "plt.figure(figsize=(10, 6))\n",
        "sns.histplot(md['runtime'].dropna(), bins=20, kde=True)\n",
        "plt.title('Distribution of Movie Runtimes')\n",
        "plt.xlabel('Runtime (minutes)')\n",
        "plt.ylabel('Number of Movies')\n",
        "plt.show()"
      ],
      "metadata": {
        "colab": {
          "base_uri": "https://localhost:8080/",
          "height": 564
        },
        "id": "xc8-nWxXkO1m",
        "outputId": "aedef044-e421-4d78-d255-69e32e0b19c0"
      },
      "execution_count": null,
      "outputs": [
        {
          "output_type": "display_data",
          "data": {
            "text/plain": [
              "<Figure size 1000x600 with 1 Axes>"
            ],
            "image/png": "[encoded data removed]"
          },
          "metadata": {}
        }
      ]
    },
    {
      "cell_type": "markdown",
      "source": [
        "###**Chart-8:Correlation Heatmap (for numerical features)**"
      ],
      "metadata": {
        "id": "bsrwz6FGkin-"
      }
    },
    {
      "cell_type": "code",
      "source": [
        "#Chart-8:Correlation Heatmap (for numerical features)\n",
        "\n",
        "numerical_features = ['budget', 'revenue', 'popularity', 'vote_average', 'vote_count', 'runtime']\n",
        "correlation_matrix = md[numerical_features].corr()\n",
        "\n",
        "plt.figure(figsize=(10, 8))\n",
        "sns.heatmap(correlation_matrix, annot=True, cmap='coolwarm')\n",
        "plt.title('Correlation Heatmap of Numerical Features')\n",
        "plt.show()"
      ],
      "metadata": {
        "colab": {
          "base_uri": "https://localhost:8080/",
          "height": 699
        },
        "id": "rqQ3lSCAkmg2",
        "outputId": "a9a427f0-735c-46ff-a027-454eaefbc115"
      },
      "execution_count": null,
      "outputs": [
        {
          "output_type": "display_data",
          "data": {
            "text/plain": [
              "<Figure size 1000x800 with 2 Axes>"
            ],
            "image/png": "[encoded data removed]"
          },
          "metadata": {}
        }
      ]
    },
    {
      "cell_type": "markdown",
      "source": [
        "###**Chart-9: Number of Movies in Collections(Bar Chart)**"
      ],
      "metadata": {
        "id": "2OQfgrhlkzIg"
      }
    },
    {
      "cell_type": "code",
      "source": [
        "#Chart-9 Number of Movies in Collections(Bar Chart)\n",
        "\n",
        "# Filter out movies with \"Unknown\" collection name\n",
        "filtered_md = md[md['collection_name'] != \"Unknown\"]\n",
        "\n",
        "# Get collection counts excluding \"Unknown\"\n",
        "collection_counts = filtered_md['collection_name'].value_counts().head(10) # Top 10 collections\n",
        "\n",
        "# Rest of the code for plotting the bar chart remains the same\n",
        "\n",
        "plt.figure(figsize=(12, 6))\n",
        "sns.barplot(x=collection_counts.index, y=collection_counts.values)\n",
        "plt.xticks(rotation=45, ha='right')\n",
        "plt.title('Number of Movies per Collection (Top 10)')\n",
        "plt.xlabel('Collection Name')\n",
        "plt.ylabel('Number of Movies')\n",
        "plt.tight_layout()\n",
        "plt.show()"
      ],
      "metadata": {
        "colab": {
          "base_uri": "https://localhost:8080/",
          "height": 607
        },
        "id": "Yw2z9eUokzYX",
        "outputId": "d4c59a22-bfbe-4efd-9747-3fa907c16f5c"
      },
      "execution_count": null,
      "outputs": [
        {
          "output_type": "display_data",
          "data": {
            "text/plain": [
              "<Figure size 1200x600 with 1 Axes>"
            ],
            "image/png": "[encoded data removed]"
          },
          "metadata": {}
        }
      ]
    },
    {
      "cell_type": "markdown",
      "source": [
        "###**Chart-10: Popularity vs. Release Year (Scatter Plot or Line Plot with Rolling Average)**"
      ],
      "metadata": {
        "id": "HGJssmFMlrYX"
      }
    },
    {
      "source": [
        "#Chart-10:Popularity vs. Release Year (Scatter Plot or Line Plot with Rolling Average)\n",
        "\n",
        "# Convert 'popularity' to numeric before calculating the mean\n",
        "md['popularity'] = pd.to_numeric(md['popularity'], errors='coerce')\n",
        "\n",
        "popularity_by_year = md.groupby('release_year')['popularity'].mean()\n",
        "plt.figure(figsize=(12, 6))\n",
        "sns.lineplot(x=popularity_by_year.index, y=popularity_by_year.values)\n",
        "plt.title('Average Movie Popularity Over Time')\n",
        "plt.xlabel('Release Year')\n",
        "plt.ylabel('Average Popularity')\n",
        "plt.show()"
      ],
      "cell_type": "code",
      "metadata": {
        "colab": {
          "base_uri": "https://localhost:8080/",
          "height": 564
        },
        "id": "EquOBFpCmFnu",
        "outputId": "f5d267e1-2014-4c66-ba75-5ad4589a5537"
      },
      "execution_count": null,
      "outputs": [
        {
          "output_type": "display_data",
          "data": {
            "text/plain": [
              "<Figure size 1200x600 with 1 Axes>"
            ],
            "image/png": "[encoded data removed]"
          },
          "metadata": {}
        }
      ]
    },
    {
      "cell_type": "markdown",
      "source": [
        "##**Recommendation Systems**"
      ],
      "metadata": {
        "id": "0yqSZ_tum99A"
      }
    },
    {
      "cell_type": "markdown",
      "source": [
        "##**Simple Recommender:**\n"
      ],
      "metadata": {
        "id": "9MMA0ODkvqPR"
      }
    },
    {
      "cell_type": "markdown",
      "source": [
        "\n",
        "This recommender suggests movies based on simple metrics like popularity or average vote.\n",
        "\n",
        "\n",
        "I use the TMDB Ratings to come up with our Top Movies Chart. I will use IMDB's weighted rating formula to construct my chart. Mathematically, it is represented as follows:\n",
        "\n",
        "Weighted Rating (WR) =  (vv+m.R)+(mv+m.C)\n",
        "\n",
        "\n",
        "where,\n",
        "\n",
        "* v is the number of votes for the movie\n",
        "* m is the minimum votes required to be listed in the chart\n",
        "* R is the average rating of the movie\n",
        "* C is the mean vote across the whole report\n",
        "\n",
        "The next step is to determine an appropriate value for m, the minimum votes required to be listed in the chart. We will use 95th percentile as our cutoff. In other words, for a movie to feature in the charts, it must have more votes than at least 95% of the movies in the list.\n",
        "\n",
        "I will build our overall Top 250 Chart and will define a function to build charts for a particular genre. Let's begin!"
      ],
      "metadata": {
        "id": "XWYzn8Msm7EF"
      }
    },
    {
      "cell_type": "code",
      "source": [
        "m = md['vote_count'].quantile(0.95) #Minimum votes required to be in the chart\n",
        "m"
      ],
      "metadata": {
        "colab": {
          "base_uri": "https://localhost:8080/"
        },
        "id": "hHm-GXHbXRg-",
        "outputId": "d16dc50b-ecd0-464e-f0b0-d4c1b7ba6ace"
      },
      "execution_count": null,
      "outputs": [
        {
          "output_type": "execute_result",
          "data": {
            "text/plain": [
              "435.0"
            ]
          },
          "metadata": {},
          "execution_count": 204
        }
      ]
    },
    {
      "cell_type": "code",
      "source": [
        "C = md['vote_average'].mean()\n",
        "C"
      ],
      "metadata": {
        "colab": {
          "base_uri": "https://localhost:8080/"
        },
        "id": "zDYEq3p5gVE6",
        "outputId": "6cb6fe3a-a14a-4e83-96f1-d7d3a45edf61"
      },
      "execution_count": null,
      "outputs": [
        {
          "output_type": "execute_result",
          "data": {
            "text/plain": [
              "5.627840381810951"
            ]
          },
          "metadata": {},
          "execution_count": 205
        }
      ]
    },
    {
      "cell_type": "code",
      "source": [
        "qualified = md[(md['vote_count'] >= m)][['title', 'year', 'vote_count', 'vote_average', 'popularity', 'genres']]\n",
        "qualified.shape"
      ],
      "metadata": {
        "colab": {
          "base_uri": "https://localhost:8080/"
        },
        "id": "rGsg4p0tYJt6",
        "outputId": "0166563a-4e6d-40ff-9762-61c65dddd207"
      },
      "execution_count": null,
      "outputs": [
        {
          "output_type": "execute_result",
          "data": {
            "text/plain": [
              "(2268, 6)"
            ]
          },
          "metadata": {},
          "execution_count": 206
        }
      ]
    },
    {
      "cell_type": "code",
      "source": [
        "# Calculate weighted rating\n",
        "v = qualified['vote_count']\n",
        "R = qualified['vote_average']"
      ],
      "metadata": {
        "id": "-zZdxHOifN5b"
      },
      "execution_count": null,
      "outputs": []
    },
    {
      "cell_type": "code",
      "source": [
        "qualified['weighted_rating'] = (v / (v + m) * R) + (m / (v + m) * C)"
      ],
      "metadata": {
        "id": "9HrteNUCa4m_"
      },
      "execution_count": null,
      "outputs": []
    },
    {
      "cell_type": "code",
      "source": [
        "qualified = qualified.sort_values(['weighted_rating', 'popularity'], ascending=[False, False]).head(250)"
      ],
      "metadata": {
        "id": "cef9VaLrbHDC"
      },
      "execution_count": null,
      "outputs": []
    },
    {
      "cell_type": "markdown",
      "source": [
        "Therefore, to qualify to be considered for the chart, a movie has to have at least 435 votes on TMDB. We also see that the average rating for a movie on TMDB is 5.627 on a scale of 10 Movies qualify to be on our chart."
      ],
      "metadata": {
        "id": "3_3vt958ZJmc"
      }
    },
    {
      "cell_type": "markdown",
      "source": [
        "**Top Movies**"
      ],
      "metadata": {
        "id": "4A82SOHAbgb7"
      }
    },
    {
      "cell_type": "code",
      "source": [
        "qualified.head(15)"
      ],
      "metadata": {
        "colab": {
          "base_uri": "https://localhost:8080/",
          "height": 521
        },
        "id": "VqOKjK1NbevW",
        "outputId": "bcaef6bb-6a18-436c-8a66-02bc25a24404"
      },
      "execution_count": null,
      "outputs": [
        {
          "output_type": "execute_result",
          "data": {
            "text/plain": [
              "                          title  year  vote_count  vote_average  popularity  \\\n",
              "314    The Shawshank Redemption  1994      8358.0           8.5   51.645403   \n",
              "834               The Godfather  1972      6024.0           8.5   41.109264   \n",
              "12481           The Dark Knight  2008     12269.0           8.3  123.167259   \n",
              "2843                 Fight Club  1999      9678.0           8.3   63.869599   \n",
              "292                Pulp Fiction  1994      8670.0           8.3  140.950236   \n",
              "351                Forrest Gump  1994      8147.0           8.2   48.307194   \n",
              "522            Schindler's List  1993      4436.0           8.3   41.725123   \n",
              "23673                  Whiplash  2014      4376.0           8.3    64.29999   \n",
              "5481              Spirited Away  2001      3968.0           8.3   41.048867   \n",
              "1154    The Empire Strikes Back  1980      5998.0           8.2   19.470959   \n",
              "15480                 Inception  2010     14075.0           8.1   29.108149   \n",
              "2211          Life Is Beautiful  1997      3643.0           8.3    39.39497   \n",
              "18465          The Intouchables  2011      5410.0           8.2   16.086919   \n",
              "22879              Interstellar  2014     11187.0           8.1   32.213481   \n",
              "1178     The Godfather: Part II  1974      3418.0           8.3   36.629307   \n",
              "\n",
              "                                                  genres  weighted_rating  \n",
              "314                                       [Drama, Crime]         8.357911  \n",
              "834                                       [Drama, Crime]         8.306566  \n",
              "12481                   [Drama, Action, Crime, Thriller]         8.208502  \n",
              "2843                                             [Drama]         8.185060  \n",
              "292                                    [Thriller, Crime]         8.172335  \n",
              "351                             [Comedy, Drama, Romance]         8.069624  \n",
              "522                                [Drama, History, War]         8.061365  \n",
              "23673                                            [Drama]         8.058389  \n",
              "5481             [Fantasy, Adventure, Animation, Family]         8.036001  \n",
              "1154                [Adventure, Action, Science Fiction]         8.026070  \n",
              "15480  [Action, Thriller, Science Fiction, Mystery, A...         8.025886  \n",
              "2211                                     [Comedy, Drama]         8.014961  \n",
              "18465                                    [Drama, Comedy]         8.008573  \n",
              "22879                [Adventure, Drama, Science Fiction]         8.007470  \n",
              "1178                                      [Drama, Crime]         7.998316  "
            ],
            "text/html": [
              "\n",
              "  <div id=\"df-3a76b439-7569-4755-bff3-744ff0576605\" class=\"colab-df-container\">\n",
              "    <div>\n",
              "<style scoped>\n",
              "    .dataframe tbody tr th:only-of-type {\n",
              "        vertical-align: middle;\n",
              "    }\n",
              "\n",
              "    .dataframe tbody tr th {\n",
              "        vertical-align: top;\n",
              "    }\n",
              "\n",
              "    .dataframe thead th {\n",
              "        text-align: right;\n",
              "    }\n",
              "</style>\n",
              "<table border=\"1\" class=\"dataframe\">\n",
              "  <thead>\n",
              "    <tr style=\"text-align: right;\">\n",
              "      <th></th>\n",
              "      <th>title</th>\n",
              "      <th>year</th>\n",
              "      <th>vote_count</th>\n",
              "      <th>vote_average</th>\n",
              "      <th>popularity</th>\n",
              "      <th>genres</th>\n",
              "      <th>weighted_rating</th>\n",
              "    </tr>\n",
              "  </thead>\n",
              "  <tbody>\n",
              "    <tr>\n",
              "      <th>314</th>\n",
              "      <td>The Shawshank Redemption</td>\n",
              "      <td>1994</td>\n",
              "      <td>8358.0</td>\n",
              "      <td>8.5</td>\n",
              "      <td>51.645403</td>\n",
              "      <td>[Drama, Crime]</td>\n",
              "      <td>8.357911</td>\n",
              "    </tr>\n",
              "    <tr>\n",
              "      <th>834</th>\n",
              "      <td>The Godfather</td>\n",
              "      <td>1972</td>\n",
              "      <td>6024.0</td>\n",
              "      <td>8.5</td>\n",
              "      <td>41.109264</td>\n",
              "      <td>[Drama, Crime]</td>\n",
              "      <td>8.306566</td>\n",
              "    </tr>\n",
              "    <tr>\n",
              "      <th>12481</th>\n",
              "      <td>The Dark Knight</td>\n",
              "      <td>2008</td>\n",
              "      <td>12269.0</td>\n",
              "      <td>8.3</td>\n",
              "      <td>123.167259</td>\n",
              "      <td>[Drama, Action, Crime, Thriller]</td>\n",
              "      <td>8.208502</td>\n",
              "    </tr>\n",
              "    <tr>\n",
              "      <th>2843</th>\n",
              "      <td>Fight Club</td>\n",
              "      <td>1999</td>\n",
              "      <td>9678.0</td>\n",
              "      <td>8.3</td>\n",
              "      <td>63.869599</td>\n",
              "      <td>[Drama]</td>\n",
              "      <td>8.185060</td>\n",
              "    </tr>\n",
              "    <tr>\n",
              "      <th>292</th>\n",
              "      <td>Pulp Fiction</td>\n",
              "      <td>1994</td>\n",
              "      <td>8670.0</td>\n",
              "      <td>8.3</td>\n",
              "      <td>140.950236</td>\n",
              "      <td>[Thriller, Crime]</td>\n",
              "      <td>8.172335</td>\n",
              "    </tr>\n",
              "    <tr>\n",
              "      <th>351</th>\n",
              "      <td>Forrest Gump</td>\n",
              "      <td>1994</td>\n",
              "      <td>8147.0</td>\n",
              "      <td>8.2</td>\n",
              "      <td>48.307194</td>\n",
              "      <td>[Comedy, Drama, Romance]</td>\n",
              "      <td>8.069624</td>\n",
              "    </tr>\n",
              "    <tr>\n",
              "      <th>522</th>\n",
              "      <td>Schindler's List</td>\n",
              "      <td>1993</td>\n",
              "      <td>4436.0</td>\n",
              "      <td>8.3</td>\n",
              "      <td>41.725123</td>\n",
              "      <td>[Drama, History, War]</td>\n",
              "      <td>8.061365</td>\n",
              "    </tr>\n",
              "    <tr>\n",
              "      <th>23673</th>\n",
              "      <td>Whiplash</td>\n",
              "      <td>2014</td>\n",
              "      <td>4376.0</td>\n",
              "      <td>8.3</td>\n",
              "      <td>64.29999</td>\n",
              "      <td>[Drama]</td>\n",
              "      <td>8.058389</td>\n",
              "    </tr>\n",
              "    <tr>\n",
              "      <th>5481</th>\n",
              "      <td>Spirited Away</td>\n",
              "      <td>2001</td>\n",
              "      <td>3968.0</td>\n",
              "      <td>8.3</td>\n",
              "      <td>41.048867</td>\n",
              "      <td>[Fantasy, Adventure, Animation, Family]</td>\n",
              "      <td>8.036001</td>\n",
              "    </tr>\n",
              "    <tr>\n",
              "      <th>1154</th>\n",
              "      <td>The Empire Strikes Back</td>\n",
              "      <td>1980</td>\n",
              "      <td>5998.0</td>\n",
              "      <td>8.2</td>\n",
              "      <td>19.470959</td>\n",
              "      <td>[Adventure, Action, Science Fiction]</td>\n",
              "      <td>8.026070</td>\n",
              "    </tr>\n",
              "    <tr>\n",
              "      <th>15480</th>\n",
              "      <td>Inception</td>\n",
              "      <td>2010</td>\n",
              "      <td>14075.0</td>\n",
              "      <td>8.1</td>\n",
              "      <td>29.108149</td>\n",
              "      <td>[Action, Thriller, Science Fiction, Mystery, A...</td>\n",
              "      <td>8.025886</td>\n",
              "    </tr>\n",
              "    <tr>\n",
              "      <th>2211</th>\n",
              "      <td>Life Is Beautiful</td>\n",
              "      <td>1997</td>\n",
              "      <td>3643.0</td>\n",
              "      <td>8.3</td>\n",
              "      <td>39.39497</td>\n",
              "      <td>[Comedy, Drama]</td>\n",
              "      <td>8.014961</td>\n",
              "    </tr>\n",
              "    <tr>\n",
              "      <th>18465</th>\n",
              "      <td>The Intouchables</td>\n",
              "      <td>2011</td>\n",
              "      <td>5410.0</td>\n",
              "      <td>8.2</td>\n",
              "      <td>16.086919</td>\n",
              "      <td>[Drama, Comedy]</td>\n",
              "      <td>8.008573</td>\n",
              "    </tr>\n",
              "    <tr>\n",
              "      <th>22879</th>\n",
              "      <td>Interstellar</td>\n",
              "      <td>2014</td>\n",
              "      <td>11187.0</td>\n",
              "      <td>8.1</td>\n",
              "      <td>32.213481</td>\n",
              "      <td>[Adventure, Drama, Science Fiction]</td>\n",
              "      <td>8.007470</td>\n",
              "    </tr>\n",
              "    <tr>\n",
              "      <th>1178</th>\n",
              "      <td>The Godfather: Part II</td>\n",
              "      <td>1974</td>\n",
              "      <td>3418.0</td>\n",
              "      <td>8.3</td>\n",
              "      <td>36.629307</td>\n",
              "      <td>[Drama, Crime]</td>\n",
              "      <td>7.998316</td>\n",
              "    </tr>\n",
              "  </tbody>\n",
              "</table>\n",
              "</div>\n",
              "    <div class=\"colab-df-buttons\">\n",
              "\n",
              "  <div class=\"colab-df-container\">\n",
              "    <button class=\"colab-df-convert\" onclick=\"convertToInteractive('df-3a76b439-7569-4755-bff3-744ff0576605')\"\n",
              "            title=\"Convert this dataframe to an interactive table.\"\n",
              "            style=\"display:none;\">\n",
              "\n",
              "  <svg xmlns=\"http://www.w3.org/2000/svg\" height=\"24px\" viewBox=\"0 -960 960 960\">\n",
              "    <path d=\"M120-120v-720h720v720H120Zm60-500h600v-160H180v160Zm220 220h160v-160H400v160Zm0 220h160v-160H400v160ZM180-400h160v-160H180v160Zm440 0h160v-160H620v160ZM180-180h160v-160H180v160Zm440 0h160v-160H620v160Z\"/>\n",
              "  </svg>\n",
              "    </button>\n",
              "\n",
              "  <style>\n",
              "    .colab-df-container {\n",
              "      display:flex;\n",
              "      gap: 12px;\n",
              "    }\n",
              "\n",
              "    .colab-df-convert {\n",
              "      background-color: #E8F0FE;\n",
              "      border: none;\n",
              "      border-radius: 50%;\n",
              "      cursor: pointer;\n",
              "      display: none;\n",
              "      fill: #1967D2;\n",
              "      height: 32px;\n",
              "      padding: 0 0 0 0;\n",
              "      width: 32px;\n",
              "    }\n",
              "\n",
              "    .colab-df-convert:hover {\n",
              "      background-color: #E2EBFA;\n",
              "      box-shadow: 0px 1px 2px rgba(60, 64, 67, 0.3), 0px 1px 3px 1px rgba(60, 64, 67, 0.15);\n",
              "      fill: #174EA6;\n",
              "    }\n",
              "\n",
              "    .colab-df-buttons div {\n",
              "      margin-bottom: 4px;\n",
              "    }\n",
              "\n",
              "    [theme=dark] .colab-df-convert {\n",
              "      background-color: #3B4455;\n",
              "      fill: #D2E3FC;\n",
              "    }\n",
              "\n",
              "    [theme=dark] .colab-df-convert:hover {\n",
              "      background-color: #434B5C;\n",
              "      box-shadow: 0px 1px 3px 1px rgba(0, 0, 0, 0.15);\n",
              "      filter: drop-shadow(0px 1px 2px rgba(0, 0, 0, 0.3));\n",
              "      fill: #FFFFFF;\n",
              "    }\n",
              "  </style>\n",
              "\n",
              "    <script>\n",
              "      const buttonEl =\n",
              "        document.querySelector('#df-3a76b439-7569-4755-bff3-744ff0576605 button.colab-df-convert');\n",
              "      buttonEl.style.display =\n",
              "        google.colab.kernel.accessAllowed ? 'block' : 'none';\n",
              "\n",
              "      async function convertToInteractive(key) {\n",
              "        const element = document.querySelector('#df-3a76b439-7569-4755-bff3-744ff0576605');\n",
              "        const dataTable =\n",
              "          await google.colab.kernel.invokeFunction('convertToInteractive',\n",
              "                                                    [key], {});\n",
              "        if (!dataTable) return;\n",
              "\n",
              "        const docLinkHtml = 'Like what you see? Visit the ' +\n",
              "          '<a target=\"_blank\" href=https://colab.research.google.com/notebooks/data_table.ipynb>data table notebook</a>'\n",
              "          + ' to learn more about interactive tables.';\n",
              "        element.innerHTML = '';\n",
              "        dataTable['output_type'] = 'display_data';\n",
              "        await google.colab.output.renderOutput(dataTable, element);\n",
              "        const docLink = document.createElement('div');\n",
              "        docLink.innerHTML = docLinkHtml;\n",
              "        element.appendChild(docLink);\n",
              "      }\n",
              "    </script>\n",
              "  </div>\n",
              "\n",
              "\n",
              "<div id=\"df-65c7eab9-720e-410c-8a1c-57366dfc415f\">\n",
              "  <button class=\"colab-df-quickchart\" onclick=\"quickchart('df-65c7eab9-720e-410c-8a1c-57366dfc415f')\"\n",
              "            title=\"Suggest charts\"\n",
              "            style=\"display:none;\">\n",
              "\n",
              "<svg xmlns=\"http://www.w3.org/2000/svg\" height=\"24px\"viewBox=\"0 0 24 24\"\n",
              "     width=\"24px\">\n",
              "    <g>\n",
              "        <path d=\"M19 3H5c-1.1 0-2 .9-2 2v14c0 1.1.9 2 2 2h14c1.1 0 2-.9 2-2V5c0-1.1-.9-2-2-2zM9 17H7v-7h2v7zm4 0h-2V7h2v10zm4 0h-2v-4h2v4z\"/>\n",
              "    </g>\n",
              "</svg>\n",
              "  </button>\n",
              "\n",
              "<style>\n",
              "  .colab-df-quickchart {\n",
              "      --bg-color: #E8F0FE;\n",
              "      --fill-color: #1967D2;\n",
              "      --hover-bg-color: #E2EBFA;\n",
              "      --hover-fill-color: #174EA6;\n",
              "      --disabled-fill-color: #AAA;\n",
              "      --disabled-bg-color: #DDD;\n",
              "  }\n",
              "\n",
              "  [theme=dark] .colab-df-quickchart {\n",
              "      --bg-color: #3B4455;\n",
              "      --fill-color: #D2E3FC;\n",
              "      --hover-bg-color: #434B5C;\n",
              "      --hover-fill-color: #FFFFFF;\n",
              "      --disabled-bg-color: #3B4455;\n",
              "      --disabled-fill-color: #666;\n",
              "  }\n",
              "\n",
              "  .colab-df-quickchart {\n",
              "    background-color: var(--bg-color);\n",
              "    border: none;\n",
              "    border-radius: 50%;\n",
              "    cursor: pointer;\n",
              "    display: none;\n",
              "    fill: var(--fill-color);\n",
              "    height: 32px;\n",
              "    padding: 0;\n",
              "    width: 32px;\n",
              "  }\n",
              "\n",
              "  .colab-df-quickchart:hover {\n",
              "    background-color: var(--hover-bg-color);\n",
              "    box-shadow: 0 1px 2px rgba(60, 64, 67, 0.3), 0 1px 3px 1px rgba(60, 64, 67, 0.15);\n",
              "    fill: var(--button-hover-fill-color);\n",
              "  }\n",
              "\n",
              "  .colab-df-quickchart-complete:disabled,\n",
              "  .colab-df-quickchart-complete:disabled:hover {\n",
              "    background-color: var(--disabled-bg-color);\n",
              "    fill: var(--disabled-fill-color);\n",
              "    box-shadow: none;\n",
              "  }\n",
              "\n",
              "  .colab-df-spinner {\n",
              "    border: 2px solid var(--fill-color);\n",
              "    border-color: transparent;\n",
              "    border-bottom-color: var(--fill-color);\n",
              "    animation:\n",
              "      spin 1s steps(1) infinite;\n",
              "  }\n",
              "\n",
              "  @keyframes spin {\n",
              "    0% {\n",
              "      border-color: transparent;\n",
              "      border-bottom-color: var(--fill-color);\n",
              "      border-left-color: var(--fill-color);\n",
              "    }\n",
              "    20% {\n",
              "      border-color: transparent;\n",
              "      border-left-color: var(--fill-color);\n",
              "      border-top-color: var(--fill-color);\n",
              "    }\n",
              "    30% {\n",
              "      border-color: transparent;\n",
              "      border-left-color: var(--fill-color);\n",
              "      border-top-color: var(--fill-color);\n",
              "      border-right-color: var(--fill-color);\n",
              "    }\n",
              "    40% {\n",
              "      border-color: transparent;\n",
              "      border-right-color: var(--fill-color);\n",
              "      border-top-color: var(--fill-color);\n",
              "    }\n",
              "    60% {\n",
              "      border-color: transparent;\n",
              "      border-right-color: var(--fill-color);\n",
              "    }\n",
              "    80% {\n",
              "      border-color: transparent;\n",
              "      border-right-color: var(--fill-color);\n",
              "      border-bottom-color: var(--fill-color);\n",
              "    }\n",
              "    90% {\n",
              "      border-color: transparent;\n",
              "      border-bottom-color: var(--fill-color);\n",
              "    }\n",
              "  }\n",
              "</style>\n",
              "\n",
              "  <script>\n",
              "    async function quickchart(key) {\n",
              "      const quickchartButtonEl =\n",
              "        document.querySelector('#' + key + ' button');\n",
              "      quickchartButtonEl.disabled = true;  // To prevent multiple clicks.\n",
              "      quickchartButtonEl.classList.add('colab-df-spinner');\n",
              "      try {\n",
              "        const charts = await google.colab.kernel.invokeFunction(\n",
              "            'suggestCharts', [key], {});\n",
              "      } catch (error) {\n",
              "        console.error('Error during call to suggestCharts:', error);\n",
              "      }\n",
              "      quickchartButtonEl.classList.remove('colab-df-spinner');\n",
              "      quickchartButtonEl.classList.add('colab-df-quickchart-complete');\n",
              "    }\n",
              "    (() => {\n",
              "      let quickchartButtonEl =\n",
              "        document.querySelector('#df-65c7eab9-720e-410c-8a1c-57366dfc415f button');\n",
              "      quickchartButtonEl.style.display =\n",
              "        google.colab.kernel.accessAllowed ? 'block' : 'none';\n",
              "    })();\n",
              "  </script>\n",
              "</div>\n",
              "\n",
              "    </div>\n",
              "  </div>\n"
            ],
            "application/vnd.google.colaboratory.intrinsic+json": {
              "type": "dataframe",
              "variable_name": "qualified",
              "summary": "{\n  \"name\": \"qualified\",\n  \"rows\": 250,\n  \"fields\": [\n    {\n      \"column\": \"title\",\n      \"properties\": {\n        \"dtype\": \"string\",\n        \"num_unique_values\": 250,\n        \"samples\": [\n          \"Citizen Kane\",\n          \"Schindler's List\",\n          \"Terminator 2: Judgment Day\"\n        ],\n        \"semantic_type\": \"\",\n        \"description\": \"\"\n      }\n    },\n    {\n      \"column\": \"year\",\n      \"properties\": {\n        \"dtype\": \"int32\",\n        \"num_unique_values\": 60,\n        \"samples\": [\n          1994,\n          2014,\n          2016\n        ],\n        \"semantic_type\": \"\",\n        \"description\": \"\"\n      }\n    },\n    {\n      \"column\": \"vote_count\",\n      \"properties\": {\n        \"dtype\": \"number\",\n        \"std\": 2476.5682518372137,\n        \"min\": 661.0,\n        \"max\": 14075.0,\n        \"num_unique_values\": 245,\n        \"samples\": [\n          3120.0,\n          4436.0,\n          2918.0\n        ],\n        \"semantic_type\": \"\",\n        \"description\": \"\"\n      }\n    },\n    {\n      \"column\": \"vote_average\",\n      \"properties\": {\n        \"dtype\": \"number\",\n        \"std\": 0.29841589802282825,\n        \"min\": 7.2,\n        \"max\": 9.1,\n        \"num_unique_values\": 14,\n        \"samples\": [\n          7.6,\n          7.4,\n          8.5\n        ],\n        \"semantic_type\": \"\",\n        \"description\": \"\"\n      }\n    },\n    {\n      \"column\": \"popularity\",\n      \"properties\": {\n        \"dtype\": \"string\",\n        \"num_unique_values\": 250,\n        \"samples\": [\n          15.811921,\n          41.725123,\n          22.661695\n        ],\n        \"semantic_type\": \"\",\n        \"description\": \"\"\n      }\n    },\n    {\n      \"column\": \"genres\",\n      \"properties\": {\n        \"dtype\": \"object\",\n        \"semantic_type\": \"\",\n        \"description\": \"\"\n      }\n    },\n    {\n      \"column\": \"weighted_rating\",\n      \"properties\": {\n        \"dtype\": \"number\",\n        \"std\": 0.27186060318841165,\n        \"min\": 7.125134289596788,\n        \"max\": 8.357910902546088,\n        \"num_unique_values\": 249,\n        \"samples\": [\n          7.397509509953154,\n          8.061365338962792,\n          7.503424534239725\n        ],\n        \"semantic_type\": \"\",\n        \"description\": \"\"\n      }\n    }\n  ]\n}"
            }
          },
          "metadata": {},
          "execution_count": 210
        }
      ]
    },
    {
      "cell_type": "code",
      "source": [
        "def build_chart(genre, percentile=0.85):\n",
        "    \"\"\"Builds a chart of top movies for a given genre.\"\"\"\n",
        "    try:\n",
        "        qualified = md[md['genres'].apply(lambda x: genre in x)]\n",
        "        if qualified.empty:\n",
        "            print(f\"No movies found for the genre: {genre}\")\n",
        "            return None\n",
        "\n",
        "        v = qualified['vote_count']\n",
        "        R = qualified['vote_average']\n",
        "        m = qualified['vote_count'].quantile(percentile)\n",
        "        C = qualified['vote_average'].mean()\n",
        "\n",
        "        qualified['weighted_rating'] = (v / (v + m) * R) + (m / (v + m) * C)\n",
        "\n",
        "        qualified = qualified.sort_values('weighted_rating', ascending=False).head(15)\n",
        "        return qualified\n",
        "    except Exception as e:\n",
        "        print(f\"An error occurred: {e}\")\n",
        "        return None"
      ],
      "metadata": {
        "id": "arQhHeGtltWf"
      },
      "execution_count": null,
      "outputs": []
    },
    {
      "cell_type": "code",
      "source": [
        "# Example with Romance (using the build_chart function)\n",
        "romance_chart = build_chart('Romance')\n",
        "print(\"Top 15 Romance Movies:\")\n",
        "romance_chart[['title', 'year', 'vote_count', 'vote_average', 'weighted_rating', 'genres']]"
      ],
      "metadata": {
        "colab": {
          "base_uri": "https://localhost:8080/",
          "height": 538
        },
        "id": "dS64Stnll0Ii",
        "outputId": "f6426f22-7cf5-49f0-c0c7-7abd21e70cca"
      },
      "execution_count": null,
      "outputs": [
        {
          "output_type": "stream",
          "name": "stdout",
          "text": [
            "Top 15 Romance Movies:\n"
          ]
        },
        {
          "output_type": "execute_result",
          "data": {
            "text/plain": [
              "                                       title  year  vote_count  vote_average  \\\n",
              "10309            Dilwale Dulhania Le Jayenge  1995       661.0           9.1   \n",
              "40251                             Your Name.  2016      1030.0           8.5   \n",
              "351                             Forrest Gump  1994      8147.0           8.2   \n",
              "1132                         Cinema Paradiso  1988       834.0           8.2   \n",
              "40882                             La La Land  2016      4745.0           7.9   \n",
              "22168                                    Her  2013      4215.0           7.9   \n",
              "7208   Eternal Sunshine of the Spotless Mind  2004      3758.0           7.9   \n",
              "876                                  Vertigo  1958      1162.0           8.0   \n",
              "3189                             City Lights  1931       444.0           8.2   \n",
              "15530                             Mr. Nobody  2009      1616.0           7.9   \n",
              "38798                      Captain Fantastic  2016      1569.0           7.9   \n",
              "883                         Some Like It Hot  1959       835.0           8.0   \n",
              "885                               Casablanca  1942      1462.0           7.9   \n",
              "19901                               Paperman  2012       734.0           8.0   \n",
              "4843                                  Amélie  2001      3403.0           7.8   \n",
              "\n",
              "       weighted_rating                                      genres  \n",
              "10309         8.701808                    [Comedy, Drama, Romance]  \n",
              "40251         8.281588                 [Romance, Animation, Drama]  \n",
              "351           8.173593                    [Comedy, Drama, Romance]  \n",
              "1132          7.964821                            [Drama, Romance]  \n",
              "40882         7.860662             [Comedy, Drama, Music, Romance]  \n",
              "22168         7.855820           [Romance, Science Fiction, Drama]  \n",
              "7208          7.850574           [Science Fiction, Drama, Romance]  \n",
              "876           7.840910                [Mystery, Romance, Thriller]  \n",
              "3189          7.793383                    [Comedy, Drama, Romance]  \n",
              "15530         7.788553  [Science Fiction, Drama, Romance, Fantasy]  \n",
              "38798         7.785397         [Adventure, Comedy, Drama, Romance]  \n",
              "883           7.784730                           [Comedy, Romance]  \n",
              "885           7.777501                            [Drama, Romance]  \n",
              "19901         7.758375                [Animation, Family, Romance]  \n",
              "4843          7.748157                           [Comedy, Romance]  "
            ],
            "text/html": [
              "\n",
              "  <div id=\"df-718381cb-db5f-41f2-82bd-eee051270001\" class=\"colab-df-container\">\n",
              "    <div>\n",
              "<style scoped>\n",
              "    .dataframe tbody tr th:only-of-type {\n",
              "        vertical-align: middle;\n",
              "    }\n",
              "\n",
              "    .dataframe tbody tr th {\n",
              "        vertical-align: top;\n",
              "    }\n",
              "\n",
              "    .dataframe thead th {\n",
              "        text-align: right;\n",
              "    }\n",
              "</style>\n",
              "<table border=\"1\" class=\"dataframe\">\n",
              "  <thead>\n",
              "    <tr style=\"text-align: right;\">\n",
              "      <th></th>\n",
              "      <th>title</th>\n",
              "      <th>year</th>\n",
              "      <th>vote_count</th>\n",
              "      <th>vote_average</th>\n",
              "      <th>weighted_rating</th>\n",
              "      <th>genres</th>\n",
              "    </tr>\n",
              "  </thead>\n",
              "  <tbody>\n",
              "    <tr>\n",
              "      <th>10309</th>\n",
              "      <td>Dilwale Dulhania Le Jayenge</td>\n",
              "      <td>1995</td>\n",
              "      <td>661.0</td>\n",
              "      <td>9.1</td>\n",
              "      <td>8.701808</td>\n",
              "      <td>[Comedy, Drama, Romance]</td>\n",
              "    </tr>\n",
              "    <tr>\n",
              "      <th>40251</th>\n",
              "      <td>Your Name.</td>\n",
              "      <td>2016</td>\n",
              "      <td>1030.0</td>\n",
              "      <td>8.5</td>\n",
              "      <td>8.281588</td>\n",
              "      <td>[Romance, Animation, Drama]</td>\n",
              "    </tr>\n",
              "    <tr>\n",
              "      <th>351</th>\n",
              "      <td>Forrest Gump</td>\n",
              "      <td>1994</td>\n",
              "      <td>8147.0</td>\n",
              "      <td>8.2</td>\n",
              "      <td>8.173593</td>\n",
              "      <td>[Comedy, Drama, Romance]</td>\n",
              "    </tr>\n",
              "    <tr>\n",
              "      <th>1132</th>\n",
              "      <td>Cinema Paradiso</td>\n",
              "      <td>1988</td>\n",
              "      <td>834.0</td>\n",
              "      <td>8.2</td>\n",
              "      <td>7.964821</td>\n",
              "      <td>[Drama, Romance]</td>\n",
              "    </tr>\n",
              "    <tr>\n",
              "      <th>40882</th>\n",
              "      <td>La La Land</td>\n",
              "      <td>2016</td>\n",
              "      <td>4745.0</td>\n",
              "      <td>7.9</td>\n",
              "      <td>7.860662</td>\n",
              "      <td>[Comedy, Drama, Music, Romance]</td>\n",
              "    </tr>\n",
              "    <tr>\n",
              "      <th>22168</th>\n",
              "      <td>Her</td>\n",
              "      <td>2013</td>\n",
              "      <td>4215.0</td>\n",
              "      <td>7.9</td>\n",
              "      <td>7.855820</td>\n",
              "      <td>[Romance, Science Fiction, Drama]</td>\n",
              "    </tr>\n",
              "    <tr>\n",
              "      <th>7208</th>\n",
              "      <td>Eternal Sunshine of the Spotless Mind</td>\n",
              "      <td>2004</td>\n",
              "      <td>3758.0</td>\n",
              "      <td>7.9</td>\n",
              "      <td>7.850574</td>\n",
              "      <td>[Science Fiction, Drama, Romance]</td>\n",
              "    </tr>\n",
              "    <tr>\n",
              "      <th>876</th>\n",
              "      <td>Vertigo</td>\n",
              "      <td>1958</td>\n",
              "      <td>1162.0</td>\n",
              "      <td>8.0</td>\n",
              "      <td>7.840910</td>\n",
              "      <td>[Mystery, Romance, Thriller]</td>\n",
              "    </tr>\n",
              "    <tr>\n",
              "      <th>3189</th>\n",
              "      <td>City Lights</td>\n",
              "      <td>1931</td>\n",
              "      <td>444.0</td>\n",
              "      <td>8.2</td>\n",
              "      <td>7.793383</td>\n",
              "      <td>[Comedy, Drama, Romance]</td>\n",
              "    </tr>\n",
              "    <tr>\n",
              "      <th>15530</th>\n",
              "      <td>Mr. Nobody</td>\n",
              "      <td>2009</td>\n",
              "      <td>1616.0</td>\n",
              "      <td>7.9</td>\n",
              "      <td>7.788553</td>\n",
              "      <td>[Science Fiction, Drama, Romance, Fantasy]</td>\n",
              "    </tr>\n",
              "    <tr>\n",
              "      <th>38798</th>\n",
              "      <td>Captain Fantastic</td>\n",
              "      <td>2016</td>\n",
              "      <td>1569.0</td>\n",
              "      <td>7.9</td>\n",
              "      <td>7.785397</td>\n",
              "      <td>[Adventure, Comedy, Drama, Romance]</td>\n",
              "    </tr>\n",
              "    <tr>\n",
              "      <th>883</th>\n",
              "      <td>Some Like It Hot</td>\n",
              "      <td>1959</td>\n",
              "      <td>835.0</td>\n",
              "      <td>8.0</td>\n",
              "      <td>7.784730</td>\n",
              "      <td>[Comedy, Romance]</td>\n",
              "    </tr>\n",
              "    <tr>\n",
              "      <th>885</th>\n",
              "      <td>Casablanca</td>\n",
              "      <td>1942</td>\n",
              "      <td>1462.0</td>\n",
              "      <td>7.9</td>\n",
              "      <td>7.777501</td>\n",
              "      <td>[Drama, Romance]</td>\n",
              "    </tr>\n",
              "    <tr>\n",
              "      <th>19901</th>\n",
              "      <td>Paperman</td>\n",
              "      <td>2012</td>\n",
              "      <td>734.0</td>\n",
              "      <td>8.0</td>\n",
              "      <td>7.758375</td>\n",
              "      <td>[Animation, Family, Romance]</td>\n",
              "    </tr>\n",
              "    <tr>\n",
              "      <th>4843</th>\n",
              "      <td>Amélie</td>\n",
              "      <td>2001</td>\n",
              "      <td>3403.0</td>\n",
              "      <td>7.8</td>\n",
              "      <td>7.748157</td>\n",
              "      <td>[Comedy, Romance]</td>\n",
              "    </tr>\n",
              "  </tbody>\n",
              "</table>\n",
              "</div>\n",
              "    <div class=\"colab-df-buttons\">\n",
              "\n",
              "  <div class=\"colab-df-container\">\n",
              "    <button class=\"colab-df-convert\" onclick=\"convertToInteractive('df-718381cb-db5f-41f2-82bd-eee051270001')\"\n",
              "            title=\"Convert this dataframe to an interactive table.\"\n",
              "            style=\"display:none;\">\n",
              "\n",
              "  <svg xmlns=\"http://www.w3.org/2000/svg\" height=\"24px\" viewBox=\"0 -960 960 960\">\n",
              "    <path d=\"M120-120v-720h720v720H120Zm60-500h600v-160H180v160Zm220 220h160v-160H400v160Zm0 220h160v-160H400v160ZM180-400h160v-160H180v160Zm440 0h160v-160H620v160ZM180-180h160v-160H180v160Zm440 0h160v-160H620v160Z\"/>\n",
              "  </svg>\n",
              "    </button>\n",
              "\n",
              "  <style>\n",
              "    .colab-df-container {\n",
              "      display:flex;\n",
              "      gap: 12px;\n",
              "    }\n",
              "\n",
              "    .colab-df-convert {\n",
              "      background-color: #E8F0FE;\n",
              "      border: none;\n",
              "      border-radius: 50%;\n",
              "      cursor: pointer;\n",
              "      display: none;\n",
              "      fill: #1967D2;\n",
              "      height: 32px;\n",
              "      padding: 0 0 0 0;\n",
              "      width: 32px;\n",
              "    }\n",
              "\n",
              "    .colab-df-convert:hover {\n",
              "      background-color: #E2EBFA;\n",
              "      box-shadow: 0px 1px 2px rgba(60, 64, 67, 0.3), 0px 1px 3px 1px rgba(60, 64, 67, 0.15);\n",
              "      fill: #174EA6;\n",
              "    }\n",
              "\n",
              "    .colab-df-buttons div {\n",
              "      margin-bottom: 4px;\n",
              "    }\n",
              "\n",
              "    [theme=dark] .colab-df-convert {\n",
              "      background-color: #3B4455;\n",
              "      fill: #D2E3FC;\n",
              "    }\n",
              "\n",
              "    [theme=dark] .colab-df-convert:hover {\n",
              "      background-color: #434B5C;\n",
              "      box-shadow: 0px 1px 3px 1px rgba(0, 0, 0, 0.15);\n",
              "      filter: drop-shadow(0px 1px 2px rgba(0, 0, 0, 0.3));\n",
              "      fill: #FFFFFF;\n",
              "    }\n",
              "  </style>\n",
              "\n",
              "    <script>\n",
              "      const buttonEl =\n",
              "        document.querySelector('#df-718381cb-db5f-41f2-82bd-eee051270001 button.colab-df-convert');\n",
              "      buttonEl.style.display =\n",
              "        google.colab.kernel.accessAllowed ? 'block' : 'none';\n",
              "\n",
              "      async function convertToInteractive(key) {\n",
              "        const element = document.querySelector('#df-718381cb-db5f-41f2-82bd-eee051270001');\n",
              "        const dataTable =\n",
              "          await google.colab.kernel.invokeFunction('convertToInteractive',\n",
              "                                                    [key], {});\n",
              "        if (!dataTable) return;\n",
              "\n",
              "        const docLinkHtml = 'Like what you see? Visit the ' +\n",
              "          '<a target=\"_blank\" href=https://colab.research.google.com/notebooks/data_table.ipynb>data table notebook</a>'\n",
              "          + ' to learn more about interactive tables.';\n",
              "        element.innerHTML = '';\n",
              "        dataTable['output_type'] = 'display_data';\n",
              "        await google.colab.output.renderOutput(dataTable, element);\n",
              "        const docLink = document.createElement('div');\n",
              "        docLink.innerHTML = docLinkHtml;\n",
              "        element.appendChild(docLink);\n",
              "      }\n",
              "    </script>\n",
              "  </div>\n",
              "\n",
              "\n",
              "<div id=\"df-e5ed9870-e0af-4c38-af52-7244f9386f18\">\n",
              "  <button class=\"colab-df-quickchart\" onclick=\"quickchart('df-e5ed9870-e0af-4c38-af52-7244f9386f18')\"\n",
              "            title=\"Suggest charts\"\n",
              "            style=\"display:none;\">\n",
              "\n",
              "<svg xmlns=\"http://www.w3.org/2000/svg\" height=\"24px\"viewBox=\"0 0 24 24\"\n",
              "     width=\"24px\">\n",
              "    <g>\n",
              "        <path d=\"M19 3H5c-1.1 0-2 .9-2 2v14c0 1.1.9 2 2 2h14c1.1 0 2-.9 2-2V5c0-1.1-.9-2-2-2zM9 17H7v-7h2v7zm4 0h-2V7h2v10zm4 0h-2v-4h2v4z\"/>\n",
              "    </g>\n",
              "</svg>\n",
              "  </button>\n",
              "\n",
              "<style>\n",
              "  .colab-df-quickchart {\n",
              "      --bg-color: #E8F0FE;\n",
              "      --fill-color: #1967D2;\n",
              "      --hover-bg-color: #E2EBFA;\n",
              "      --hover-fill-color: #174EA6;\n",
              "      --disabled-fill-color: #AAA;\n",
              "      --disabled-bg-color: #DDD;\n",
              "  }\n",
              "\n",
              "  [theme=dark] .colab-df-quickchart {\n",
              "      --bg-color: #3B4455;\n",
              "      --fill-color: #D2E3FC;\n",
              "      --hover-bg-color: #434B5C;\n",
              "      --hover-fill-color: #FFFFFF;\n",
              "      --disabled-bg-color: #3B4455;\n",
              "      --disabled-fill-color: #666;\n",
              "  }\n",
              "\n",
              "  .colab-df-quickchart {\n",
              "    background-color: var(--bg-color);\n",
              "    border: none;\n",
              "    border-radius: 50%;\n",
              "    cursor: pointer;\n",
              "    display: none;\n",
              "    fill: var(--fill-color);\n",
              "    height: 32px;\n",
              "    padding: 0;\n",
              "    width: 32px;\n",
              "  }\n",
              "\n",
              "  .colab-df-quickchart:hover {\n",
              "    background-color: var(--hover-bg-color);\n",
              "    box-shadow: 0 1px 2px rgba(60, 64, 67, 0.3), 0 1px 3px 1px rgba(60, 64, 67, 0.15);\n",
              "    fill: var(--button-hover-fill-color);\n",
              "  }\n",
              "\n",
              "  .colab-df-quickchart-complete:disabled,\n",
              "  .colab-df-quickchart-complete:disabled:hover {\n",
              "    background-color: var(--disabled-bg-color);\n",
              "    fill: var(--disabled-fill-color);\n",
              "    box-shadow: none;\n",
              "  }\n",
              "\n",
              "  .colab-df-spinner {\n",
              "    border: 2px solid var(--fill-color);\n",
              "    border-color: transparent;\n",
              "    border-bottom-color: var(--fill-color);\n",
              "    animation:\n",
              "      spin 1s steps(1) infinite;\n",
              "  }\n",
              "\n",
              "  @keyframes spin {\n",
              "    0% {\n",
              "      border-color: transparent;\n",
              "      border-bottom-color: var(--fill-color);\n",
              "      border-left-color: var(--fill-color);\n",
              "    }\n",
              "    20% {\n",
              "      border-color: transparent;\n",
              "      border-left-color: var(--fill-color);\n",
              "      border-top-color: var(--fill-color);\n",
              "    }\n",
              "    30% {\n",
              "      border-color: transparent;\n",
              "      border-left-color: var(--fill-color);\n",
              "      border-top-color: var(--fill-color);\n",
              "      border-right-color: var(--fill-color);\n",
              "    }\n",
              "    40% {\n",
              "      border-color: transparent;\n",
              "      border-right-color: var(--fill-color);\n",
              "      border-top-color: var(--fill-color);\n",
              "    }\n",
              "    60% {\n",
              "      border-color: transparent;\n",
              "      border-right-color: var(--fill-color);\n",
              "    }\n",
              "    80% {\n",
              "      border-color: transparent;\n",
              "      border-right-color: var(--fill-color);\n",
              "      border-bottom-color: var(--fill-color);\n",
              "    }\n",
              "    90% {\n",
              "      border-color: transparent;\n",
              "      border-bottom-color: var(--fill-color);\n",
              "    }\n",
              "  }\n",
              "</style>\n",
              "\n",
              "  <script>\n",
              "    async function quickchart(key) {\n",
              "      const quickchartButtonEl =\n",
              "        document.querySelector('#' + key + ' button');\n",
              "      quickchartButtonEl.disabled = true;  // To prevent multiple clicks.\n",
              "      quickchartButtonEl.classList.add('colab-df-spinner');\n",
              "      try {\n",
              "        const charts = await google.colab.kernel.invokeFunction(\n",
              "            'suggestCharts', [key], {});\n",
              "      } catch (error) {\n",
              "        console.error('Error during call to suggestCharts:', error);\n",
              "      }\n",
              "      quickchartButtonEl.classList.remove('colab-df-spinner');\n",
              "      quickchartButtonEl.classList.add('colab-df-quickchart-complete');\n",
              "    }\n",
              "    (() => {\n",
              "      let quickchartButtonEl =\n",
              "        document.querySelector('#df-e5ed9870-e0af-4c38-af52-7244f9386f18 button');\n",
              "      quickchartButtonEl.style.display =\n",
              "        google.colab.kernel.accessAllowed ? 'block' : 'none';\n",
              "    })();\n",
              "  </script>\n",
              "</div>\n",
              "\n",
              "    </div>\n",
              "  </div>\n"
            ],
            "application/vnd.google.colaboratory.intrinsic+json": {
              "type": "dataframe",
              "summary": "{\n  \"name\": \"romance_chart[['title', 'year', 'vote_count', 'vote_average', 'weighted_rating', 'genres']]\",\n  \"rows\": 15,\n  \"fields\": [\n    {\n      \"column\": \"title\",\n      \"properties\": {\n        \"dtype\": \"string\",\n        \"num_unique_values\": 15,\n        \"samples\": [\n          \"Mr. Nobody\",\n          \"Some Like It Hot\",\n          \"Dilwale Dulhania Le Jayenge\"\n        ],\n        \"semantic_type\": \"\",\n        \"description\": \"\"\n      }\n    },\n    {\n      \"column\": \"year\",\n      \"properties\": {\n        \"dtype\": \"int32\",\n        \"num_unique_values\": 13,\n        \"samples\": [\n          2012,\n          1959,\n          1995\n        ],\n        \"semantic_type\": \"\",\n        \"description\": \"\"\n      }\n    },\n    {\n      \"column\": \"vote_count\",\n      \"properties\": {\n        \"dtype\": \"number\",\n        \"std\": 2149.17507984099,\n        \"min\": 444.0,\n        \"max\": 8147.0,\n        \"num_unique_values\": 15,\n        \"samples\": [\n          1616.0,\n          835.0,\n          661.0\n        ],\n        \"semantic_type\": \"\",\n        \"description\": \"\"\n      }\n    },\n    {\n      \"column\": \"vote_average\",\n      \"properties\": {\n        \"dtype\": \"number\",\n        \"std\": 0.3326659986633237,\n        \"min\": 7.8,\n        \"max\": 9.1,\n        \"num_unique_values\": 6,\n        \"samples\": [\n          9.1,\n          8.5,\n          7.8\n        ],\n        \"semantic_type\": \"\",\n        \"description\": \"\"\n      }\n    },\n    {\n      \"column\": \"weighted_rating\",\n      \"properties\": {\n        \"dtype\": \"number\",\n        \"std\": 0.2633376196558213,\n        \"min\": 7.748156773867111,\n        \"max\": 8.70180820198362,\n        \"num_unique_values\": 15,\n        \"samples\": [\n          7.78855288101446,\n          7.784729770941342,\n          8.70180820198362\n        ],\n        \"semantic_type\": \"\",\n        \"description\": \"\"\n      }\n    },\n    {\n      \"column\": \"genres\",\n      \"properties\": {\n        \"dtype\": \"object\",\n        \"semantic_type\": \"\",\n        \"description\": \"\"\n      }\n    }\n  ]\n}"
            }
          },
          "metadata": {},
          "execution_count": 212
        }
      ]
    },
    {
      "cell_type": "code",
      "source": [
        "# Example with Action (using the build_chart function)\n",
        "action_chart = build_chart('Action')\n",
        "if action_chart is not None:\n",
        "    print(\"\\nTop 15 Action Movies:\")\n",
        "action_chart[['title', 'year', 'vote_count', 'vote_average', 'weighted_rating', 'genres']]"
      ],
      "metadata": {
        "colab": {
          "base_uri": "https://localhost:8080/",
          "height": 556
        },
        "id": "E4n7HgSoDdcE",
        "outputId": "1554ca59-6fbe-4962-e82b-e8a13cc3a23c"
      },
      "execution_count": null,
      "outputs": [
        {
          "output_type": "stream",
          "name": "stdout",
          "text": [
            "\n",
            "Top 15 Action Movies:\n"
          ]
        },
        {
          "output_type": "execute_result",
          "data": {
            "text/plain": [
              "                                                   title  year  vote_count  \\\n",
              "12481                                    The Dark Knight  2008     12269.0   \n",
              "1154                             The Empire Strikes Back  1980      5998.0   \n",
              "15480                                          Inception  2010     14075.0   \n",
              "7000       The Lord of the Rings: The Return of the King  2003      8226.0   \n",
              "256                                            Star Wars  1977      6778.0   \n",
              "4863   The Lord of the Rings: The Fellowship of the Ring  2001      8892.0   \n",
              "5814               The Lord of the Rings: The Two Towers  2002      7641.0   \n",
              "23753                            Guardians of the Galaxy  2014     10014.0   \n",
              "2458                                          The Matrix  1999      9079.0   \n",
              "4135                                            Scarface  1983      3017.0   \n",
              "13605                               Inglourious Basterds  2009      6598.0   \n",
              "3456                                           Gladiator  2000      5566.0   \n",
              "1167                                  Return of the Jedi  1983      4763.0   \n",
              "1171                                               Alien  1979      4564.0   \n",
              "9430                                              Oldboy  2003      2000.0   \n",
              "\n",
              "       vote_average  weighted_rating  \\\n",
              "12481           8.3         8.250401   \n",
              "1154            8.2         8.104112   \n",
              "15480           8.1         8.059855   \n",
              "7000            8.1         8.032082   \n",
              "256             8.1         8.018045   \n",
              "4863            8.0         7.939545   \n",
              "5814            8.0         7.929934   \n",
              "23753           7.9         7.848396   \n",
              "2458            7.9         7.843212   \n",
              "4135            8.0         7.830102   \n",
              "13605           7.9         7.822573   \n",
              "3456            7.9         7.808783   \n",
              "1167            7.9         7.794108   \n",
              "1171            7.9         7.789711   \n",
              "9430            8.0         7.752561   \n",
              "\n",
              "                                                  genres  \n",
              "12481                   [Drama, Action, Crime, Thriller]  \n",
              "1154                [Adventure, Action, Science Fiction]  \n",
              "15480  [Action, Thriller, Science Fiction, Mystery, A...  \n",
              "7000                        [Adventure, Fantasy, Action]  \n",
              "256                 [Adventure, Action, Science Fiction]  \n",
              "4863                        [Adventure, Fantasy, Action]  \n",
              "5814                        [Adventure, Fantasy, Action]  \n",
              "23753               [Action, Science Fiction, Adventure]  \n",
              "2458                           [Action, Science Fiction]  \n",
              "4135                    [Action, Crime, Drama, Thriller]  \n",
              "13605                     [Drama, Action, Thriller, War]  \n",
              "3456                          [Action, Drama, Adventure]  \n",
              "1167                [Adventure, Action, Science Fiction]  \n",
              "1171         [Horror, Action, Thriller, Science Fiction]  \n",
              "9430                  [Drama, Thriller, Mystery, Action]  "
            ],
            "text/html": [
              "\n",
              "  <div id=\"df-45d80fb1-d3dc-4209-9a8f-fdf46610b6cf\" class=\"colab-df-container\">\n",
              "    <div>\n",
              "<style scoped>\n",
              "    .dataframe tbody tr th:only-of-type {\n",
              "        vertical-align: middle;\n",
              "    }\n",
              "\n",
              "    .dataframe tbody tr th {\n",
              "        vertical-align: top;\n",
              "    }\n",
              "\n",
              "    .dataframe thead th {\n",
              "        text-align: right;\n",
              "    }\n",
              "</style>\n",
              "<table border=\"1\" class=\"dataframe\">\n",
              "  <thead>\n",
              "    <tr style=\"text-align: right;\">\n",
              "      <th></th>\n",
              "      <th>title</th>\n",
              "      <th>year</th>\n",
              "      <th>vote_count</th>\n",
              "      <th>vote_average</th>\n",
              "      <th>weighted_rating</th>\n",
              "      <th>genres</th>\n",
              "    </tr>\n",
              "  </thead>\n",
              "  <tbody>\n",
              "    <tr>\n",
              "      <th>12481</th>\n",
              "      <td>The Dark Knight</td>\n",
              "      <td>2008</td>\n",
              "      <td>12269.0</td>\n",
              "      <td>8.3</td>\n",
              "      <td>8.250401</td>\n",
              "      <td>[Drama, Action, Crime, Thriller]</td>\n",
              "    </tr>\n",
              "    <tr>\n",
              "      <th>1154</th>\n",
              "      <td>The Empire Strikes Back</td>\n",
              "      <td>1980</td>\n",
              "      <td>5998.0</td>\n",
              "      <td>8.2</td>\n",
              "      <td>8.104112</td>\n",
              "      <td>[Adventure, Action, Science Fiction]</td>\n",
              "    </tr>\n",
              "    <tr>\n",
              "      <th>15480</th>\n",
              "      <td>Inception</td>\n",
              "      <td>2010</td>\n",
              "      <td>14075.0</td>\n",
              "      <td>8.1</td>\n",
              "      <td>8.059855</td>\n",
              "      <td>[Action, Thriller, Science Fiction, Mystery, A...</td>\n",
              "    </tr>\n",
              "    <tr>\n",
              "      <th>7000</th>\n",
              "      <td>The Lord of the Rings: The Return of the King</td>\n",
              "      <td>2003</td>\n",
              "      <td>8226.0</td>\n",
              "      <td>8.1</td>\n",
              "      <td>8.032082</td>\n",
              "      <td>[Adventure, Fantasy, Action]</td>\n",
              "    </tr>\n",
              "    <tr>\n",
              "      <th>256</th>\n",
              "      <td>Star Wars</td>\n",
              "      <td>1977</td>\n",
              "      <td>6778.0</td>\n",
              "      <td>8.1</td>\n",
              "      <td>8.018045</td>\n",
              "      <td>[Adventure, Action, Science Fiction]</td>\n",
              "    </tr>\n",
              "    <tr>\n",
              "      <th>4863</th>\n",
              "      <td>The Lord of the Rings: The Fellowship of the Ring</td>\n",
              "      <td>2001</td>\n",
              "      <td>8892.0</td>\n",
              "      <td>8.0</td>\n",
              "      <td>7.939545</td>\n",
              "      <td>[Adventure, Fantasy, Action]</td>\n",
              "    </tr>\n",
              "    <tr>\n",
              "      <th>5814</th>\n",
              "      <td>The Lord of the Rings: The Two Towers</td>\n",
              "      <td>2002</td>\n",
              "      <td>7641.0</td>\n",
              "      <td>8.0</td>\n",
              "      <td>7.929934</td>\n",
              "      <td>[Adventure, Fantasy, Action]</td>\n",
              "    </tr>\n",
              "    <tr>\n",
              "      <th>23753</th>\n",
              "      <td>Guardians of the Galaxy</td>\n",
              "      <td>2014</td>\n",
              "      <td>10014.0</td>\n",
              "      <td>7.9</td>\n",
              "      <td>7.848396</td>\n",
              "      <td>[Action, Science Fiction, Adventure]</td>\n",
              "    </tr>\n",
              "    <tr>\n",
              "      <th>2458</th>\n",
              "      <td>The Matrix</td>\n",
              "      <td>1999</td>\n",
              "      <td>9079.0</td>\n",
              "      <td>7.9</td>\n",
              "      <td>7.843212</td>\n",
              "      <td>[Action, Science Fiction]</td>\n",
              "    </tr>\n",
              "    <tr>\n",
              "      <th>4135</th>\n",
              "      <td>Scarface</td>\n",
              "      <td>1983</td>\n",
              "      <td>3017.0</td>\n",
              "      <td>8.0</td>\n",
              "      <td>7.830102</td>\n",
              "      <td>[Action, Crime, Drama, Thriller]</td>\n",
              "    </tr>\n",
              "    <tr>\n",
              "      <th>13605</th>\n",
              "      <td>Inglourious Basterds</td>\n",
              "      <td>2009</td>\n",
              "      <td>6598.0</td>\n",
              "      <td>7.9</td>\n",
              "      <td>7.822573</td>\n",
              "      <td>[Drama, Action, Thriller, War]</td>\n",
              "    </tr>\n",
              "    <tr>\n",
              "      <th>3456</th>\n",
              "      <td>Gladiator</td>\n",
              "      <td>2000</td>\n",
              "      <td>5566.0</td>\n",
              "      <td>7.9</td>\n",
              "      <td>7.808783</td>\n",
              "      <td>[Action, Drama, Adventure]</td>\n",
              "    </tr>\n",
              "    <tr>\n",
              "      <th>1167</th>\n",
              "      <td>Return of the Jedi</td>\n",
              "      <td>1983</td>\n",
              "      <td>4763.0</td>\n",
              "      <td>7.9</td>\n",
              "      <td>7.794108</td>\n",
              "      <td>[Adventure, Action, Science Fiction]</td>\n",
              "    </tr>\n",
              "    <tr>\n",
              "      <th>1171</th>\n",
              "      <td>Alien</td>\n",
              "      <td>1979</td>\n",
              "      <td>4564.0</td>\n",
              "      <td>7.9</td>\n",
              "      <td>7.789711</td>\n",
              "      <td>[Horror, Action, Thriller, Science Fiction]</td>\n",
              "    </tr>\n",
              "    <tr>\n",
              "      <th>9430</th>\n",
              "      <td>Oldboy</td>\n",
              "      <td>2003</td>\n",
              "      <td>2000.0</td>\n",
              "      <td>8.0</td>\n",
              "      <td>7.752561</td>\n",
              "      <td>[Drama, Thriller, Mystery, Action]</td>\n",
              "    </tr>\n",
              "  </tbody>\n",
              "</table>\n",
              "</div>\n",
              "    <div class=\"colab-df-buttons\">\n",
              "\n",
              "  <div class=\"colab-df-container\">\n",
              "    <button class=\"colab-df-convert\" onclick=\"convertToInteractive('df-45d80fb1-d3dc-4209-9a8f-fdf46610b6cf')\"\n",
              "            title=\"Convert this dataframe to an interactive table.\"\n",
              "            style=\"display:none;\">\n",
              "\n",
              "  <svg xmlns=\"http://www.w3.org/2000/svg\" height=\"24px\" viewBox=\"0 -960 960 960\">\n",
              "    <path d=\"M120-120v-720h720v720H120Zm60-500h600v-160H180v160Zm220 220h160v-160H400v160Zm0 220h160v-160H400v160ZM180-400h160v-160H180v160Zm440 0h160v-160H620v160ZM180-180h160v-160H180v160Zm440 0h160v-160H620v160Z\"/>\n",
              "  </svg>\n",
              "    </button>\n",
              "\n",
              "  <style>\n",
              "    .colab-df-container {\n",
              "      display:flex;\n",
              "      gap: 12px;\n",
              "    }\n",
              "\n",
              "    .colab-df-convert {\n",
              "      background-color: #E8F0FE;\n",
              "      border: none;\n",
              "      border-radius: 50%;\n",
              "      cursor: pointer;\n",
              "      display: none;\n",
              "      fill: #1967D2;\n",
              "      height: 32px;\n",
              "      padding: 0 0 0 0;\n",
              "      width: 32px;\n",
              "    }\n",
              "\n",
              "    .colab-df-convert:hover {\n",
              "      background-color: #E2EBFA;\n",
              "      box-shadow: 0px 1px 2px rgba(60, 64, 67, 0.3), 0px 1px 3px 1px rgba(60, 64, 67, 0.15);\n",
              "      fill: #174EA6;\n",
              "    }\n",
              "\n",
              "    .colab-df-buttons div {\n",
              "      margin-bottom: 4px;\n",
              "    }\n",
              "\n",
              "    [theme=dark] .colab-df-convert {\n",
              "      background-color: #3B4455;\n",
              "      fill: #D2E3FC;\n",
              "    }\n",
              "\n",
              "    [theme=dark] .colab-df-convert:hover {\n",
              "      background-color: #434B5C;\n",
              "      box-shadow: 0px 1px 3px 1px rgba(0, 0, 0, 0.15);\n",
              "      filter: drop-shadow(0px 1px 2px rgba(0, 0, 0, 0.3));\n",
              "      fill: #FFFFFF;\n",
              "    }\n",
              "  </style>\n",
              "\n",
              "    <script>\n",
              "      const buttonEl =\n",
              "        document.querySelector('#df-45d80fb1-d3dc-4209-9a8f-fdf46610b6cf button.colab-df-convert');\n",
              "      buttonEl.style.display =\n",
              "        google.colab.kernel.accessAllowed ? 'block' : 'none';\n",
              "\n",
              "      async function convertToInteractive(key) {\n",
              "        const element = document.querySelector('#df-45d80fb1-d3dc-4209-9a8f-fdf46610b6cf');\n",
              "        const dataTable =\n",
              "          await google.colab.kernel.invokeFunction('convertToInteractive',\n",
              "                                                    [key], {});\n",
              "        if (!dataTable) return;\n",
              "\n",
              "        const docLinkHtml = 'Like what you see? Visit the ' +\n",
              "          '<a target=\"_blank\" href=https://colab.research.google.com/notebooks/data_table.ipynb>data table notebook</a>'\n",
              "          + ' to learn more about interactive tables.';\n",
              "        element.innerHTML = '';\n",
              "        dataTable['output_type'] = 'display_data';\n",
              "        await google.colab.output.renderOutput(dataTable, element);\n",
              "        const docLink = document.createElement('div');\n",
              "        docLink.innerHTML = docLinkHtml;\n",
              "        element.appendChild(docLink);\n",
              "      }\n",
              "    </script>\n",
              "  </div>\n",
              "\n",
              "\n",
              "<div id=\"df-825e4fdd-c3e7-491f-b273-3f33adde94e3\">\n",
              "  <button class=\"colab-df-quickchart\" onclick=\"quickchart('df-825e4fdd-c3e7-491f-b273-3f33adde94e3')\"\n",
              "            title=\"Suggest charts\"\n",
              "            style=\"display:none;\">\n",
              "\n",
              "<svg xmlns=\"http://www.w3.org/2000/svg\" height=\"24px\"viewBox=\"0 0 24 24\"\n",
              "     width=\"24px\">\n",
              "    <g>\n",
              "        <path d=\"M19 3H5c-1.1 0-2 .9-2 2v14c0 1.1.9 2 2 2h14c1.1 0 2-.9 2-2V5c0-1.1-.9-2-2-2zM9 17H7v-7h2v7zm4 0h-2V7h2v10zm4 0h-2v-4h2v4z\"/>\n",
              "    </g>\n",
              "</svg>\n",
              "  </button>\n",
              "\n",
              "<style>\n",
              "  .colab-df-quickchart {\n",
              "      --bg-color: #E8F0FE;\n",
              "      --fill-color: #1967D2;\n",
              "      --hover-bg-color: #E2EBFA;\n",
              "      --hover-fill-color: #174EA6;\n",
              "      --disabled-fill-color: #AAA;\n",
              "      --disabled-bg-color: #DDD;\n",
              "  }\n",
              "\n",
              "  [theme=dark] .colab-df-quickchart {\n",
              "      --bg-color: #3B4455;\n",
              "      --fill-color: #D2E3FC;\n",
              "      --hover-bg-color: #434B5C;\n",
              "      --hover-fill-color: #FFFFFF;\n",
              "      --disabled-bg-color: #3B4455;\n",
              "      --disabled-fill-color: #666;\n",
              "  }\n",
              "\n",
              "  .colab-df-quickchart {\n",
              "    background-color: var(--bg-color);\n",
              "    border: none;\n",
              "    border-radius: 50%;\n",
              "    cursor: pointer;\n",
              "    display: none;\n",
              "    fill: var(--fill-color);\n",
              "    height: 32px;\n",
              "    padding: 0;\n",
              "    width: 32px;\n",
              "  }\n",
              "\n",
              "  .colab-df-quickchart:hover {\n",
              "    background-color: var(--hover-bg-color);\n",
              "    box-shadow: 0 1px 2px rgba(60, 64, 67, 0.3), 0 1px 3px 1px rgba(60, 64, 67, 0.15);\n",
              "    fill: var(--button-hover-fill-color);\n",
              "  }\n",
              "\n",
              "  .colab-df-quickchart-complete:disabled,\n",
              "  .colab-df-quickchart-complete:disabled:hover {\n",
              "    background-color: var(--disabled-bg-color);\n",
              "    fill: var(--disabled-fill-color);\n",
              "    box-shadow: none;\n",
              "  }\n",
              "\n",
              "  .colab-df-spinner {\n",
              "    border: 2px solid var(--fill-color);\n",
              "    border-color: transparent;\n",
              "    border-bottom-color: var(--fill-color);\n",
              "    animation:\n",
              "      spin 1s steps(1) infinite;\n",
              "  }\n",
              "\n",
              "  @keyframes spin {\n",
              "    0% {\n",
              "      border-color: transparent;\n",
              "      border-bottom-color: var(--fill-color);\n",
              "      border-left-color: var(--fill-color);\n",
              "    }\n",
              "    20% {\n",
              "      border-color: transparent;\n",
              "      border-left-color: var(--fill-color);\n",
              "      border-top-color: var(--fill-color);\n",
              "    }\n",
              "    30% {\n",
              "      border-color: transparent;\n",
              "      border-left-color: var(--fill-color);\n",
              "      border-top-color: var(--fill-color);\n",
              "      border-right-color: var(--fill-color);\n",
              "    }\n",
              "    40% {\n",
              "      border-color: transparent;\n",
              "      border-right-color: var(--fill-color);\n",
              "      border-top-color: var(--fill-color);\n",
              "    }\n",
              "    60% {\n",
              "      border-color: transparent;\n",
              "      border-right-color: var(--fill-color);\n",
              "    }\n",
              "    80% {\n",
              "      border-color: transparent;\n",
              "      border-right-color: var(--fill-color);\n",
              "      border-bottom-color: var(--fill-color);\n",
              "    }\n",
              "    90% {\n",
              "      border-color: transparent;\n",
              "      border-bottom-color: var(--fill-color);\n",
              "    }\n",
              "  }\n",
              "</style>\n",
              "\n",
              "  <script>\n",
              "    async function quickchart(key) {\n",
              "      const quickchartButtonEl =\n",
              "        document.querySelector('#' + key + ' button');\n",
              "      quickchartButtonEl.disabled = true;  // To prevent multiple clicks.\n",
              "      quickchartButtonEl.classList.add('colab-df-spinner');\n",
              "      try {\n",
              "        const charts = await google.colab.kernel.invokeFunction(\n",
              "            'suggestCharts', [key], {});\n",
              "      } catch (error) {\n",
              "        console.error('Error during call to suggestCharts:', error);\n",
              "      }\n",
              "      quickchartButtonEl.classList.remove('colab-df-spinner');\n",
              "      quickchartButtonEl.classList.add('colab-df-quickchart-complete');\n",
              "    }\n",
              "    (() => {\n",
              "      let quickchartButtonEl =\n",
              "        document.querySelector('#df-825e4fdd-c3e7-491f-b273-3f33adde94e3 button');\n",
              "      quickchartButtonEl.style.display =\n",
              "        google.colab.kernel.accessAllowed ? 'block' : 'none';\n",
              "    })();\n",
              "  </script>\n",
              "</div>\n",
              "\n",
              "    </div>\n",
              "  </div>\n"
            ],
            "application/vnd.google.colaboratory.intrinsic+json": {
              "type": "dataframe",
              "summary": "{\n  \"name\": \"action_chart[['title', 'year', 'vote_count', 'vote_average', 'weighted_rating', 'genres']]\",\n  \"rows\": 15,\n  \"fields\": [\n    {\n      \"column\": \"title\",\n      \"properties\": {\n        \"dtype\": \"string\",\n        \"num_unique_values\": 15,\n        \"samples\": [\n          \"Scarface\",\n          \"Gladiator\",\n          \"The Dark Knight\"\n        ],\n        \"semantic_type\": \"\",\n        \"description\": \"\"\n      }\n    },\n    {\n      \"column\": \"year\",\n      \"properties\": {\n        \"dtype\": \"int32\",\n        \"num_unique_values\": 13,\n        \"samples\": [\n          2000,\n          1983,\n          2008\n        ],\n        \"semantic_type\": \"\",\n        \"description\": \"\"\n      }\n    },\n    {\n      \"column\": \"vote_count\",\n      \"properties\": {\n        \"dtype\": \"number\",\n        \"std\": 3278.216188867412,\n        \"min\": 2000.0,\n        \"max\": 14075.0,\n        \"num_unique_values\": 15,\n        \"samples\": [\n          3017.0,\n          5566.0,\n          12269.0\n        ],\n        \"semantic_type\": \"\",\n        \"description\": \"\"\n      }\n    },\n    {\n      \"column\": \"vote_average\",\n      \"properties\": {\n        \"dtype\": \"number\",\n        \"std\": 0.12459458063579443,\n        \"min\": 7.9,\n        \"max\": 8.3,\n        \"num_unique_values\": 5,\n        \"samples\": [\n          8.2,\n          7.9,\n          8.1\n        ],\n        \"semantic_type\": \"\",\n        \"description\": \"\"\n      }\n    },\n    {\n      \"column\": \"weighted_rating\",\n      \"properties\": {\n        \"dtype\": \"number\",\n        \"std\": 0.14319490116042746,\n        \"min\": 7.7525605567268725,\n        \"max\": 8.250400541601346,\n        \"num_unique_values\": 15,\n        \"samples\": [\n          7.83010220582211,\n          7.808782888106327,\n          8.250400541601346\n        ],\n        \"semantic_type\": \"\",\n        \"description\": \"\"\n      }\n    },\n    {\n      \"column\": \"genres\",\n      \"properties\": {\n        \"dtype\": \"object\",\n        \"semantic_type\": \"\",\n        \"description\": \"\"\n      }\n    }\n  ]\n}"
            }
          },
          "metadata": {},
          "execution_count": 213
        }
      ]
    },
    {
      "cell_type": "markdown",
      "source": [
        "#**Conclusion**"
      ],
      "metadata": {
        "id": "Iav5LP21Ex6R"
      }
    },
    {
      "cell_type": "markdown",
      "source": [
        "In this project, we successfully developed a simple movie recommender system. Leveraging the TMDB dataset, we implemented a weighted rating formula to identify top-rated movies based on popularity and user ratings.\n",
        "\n",
        "We curated a list of the overall Top 250 movies. To further enhance the system, we also incorporated a genre-specific recommendation feature. By utilizing this functionality, we were able to generate lists of the Top 15 movies within the Action and Romance genres, respectively.\n",
        "\n",
        "These recommendations offer a starting point for users to discover new movies, with potential for expansion and customization. The developed simple recommender system provides a foundation for further exploration and development of more sophisticated recommendation approaches in the future."
      ],
      "metadata": {
        "id": "CpfGPbbME0dD"
      }
    }
  ]
}